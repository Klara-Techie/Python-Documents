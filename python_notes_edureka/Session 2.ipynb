{
 "cells": [
  {
   "cell_type": "markdown",
   "metadata": {},
   "source": [
    "# Session 2"
   ]
  },
  {
   "cell_type": "code",
   "execution_count": 1,
   "metadata": {},
   "outputs": [],
   "source": [
    "#WAP to input two numbers from a user and print their sum "
   ]
  },
  {
   "cell_type": "code",
   "execution_count": 1,
   "metadata": {},
   "outputs": [
    {
     "name": "stdout",
     "output_type": "stream",
     "text": [
      "Enter 1st number : 1\n",
      "Enter 2nd number : 1\n"
     ]
    }
   ],
   "source": [
    "a=int(input(\"Enter 1st number : \"))\n",
    "b=int(input(\"Enter 2nd number : \"))\n",
    "\n",
    "#typecasting "
   ]
  },
  {
   "cell_type": "code",
   "execution_count": 3,
   "metadata": {},
   "outputs": [
    {
     "name": "stdout",
     "output_type": "stream",
     "text": [
      "3\n"
     ]
    }
   ],
   "source": [
    "print(a+b)"
   ]
  },
  {
   "cell_type": "code",
   "execution_count": 1,
   "metadata": {},
   "outputs": [
    {
     "name": "stdout",
     "output_type": "stream",
     "text": [
      "enter a number34\n"
     ]
    }
   ],
   "source": [
    "n=input(\"enter a number\")"
   ]
  },
  {
   "cell_type": "code",
   "execution_count": 2,
   "metadata": {},
   "outputs": [
    {
     "data": {
      "text/plain": [
       "34"
      ]
     },
     "execution_count": 2,
     "metadata": {},
     "output_type": "execute_result"
    }
   ],
   "source": [
    "int(n)"
   ]
  },
  {
   "cell_type": "code",
   "execution_count": null,
   "metadata": {},
   "outputs": [],
   "source": [
    "#Statements \n",
    "\n",
    "    # Conditional \n",
    "            #if \n",
    "            #if else\n",
    "            #if - elif (s) \n",
    "            #if - elif (s) else\n",
    "    \n",
    "    #Iterative/looping\n",
    "    \n",
    "        # for \n",
    "        \n",
    "        #while\n",
    "        \n",
    "        \n",
    "    \n",
    "    \n",
    "    #Jump statements \n",
    "    \n",
    "        # break\n",
    "        #continue\n",
    "        #return \n",
    "        #pass\n",
    "        \n",
    "        \n",
    "        \n",
    "#no switch case \n",
    "\n",
    "#no do while loop \n"
   ]
  },
  {
   "cell_type": "code",
   "execution_count": null,
   "metadata": {},
   "outputs": [],
   "source": [
    "#If \n",
    "\n",
    "#WAP to input age of a person , if he/she is above  or equal 18 then say \"Eligible to vote\"\n",
    "\n"
   ]
  },
  {
   "cell_type": "code",
   "execution_count": null,
   "metadata": {},
   "outputs": [],
   "source": [
    "int a\n",
    "if a>=18:\n",
    "    print (\"Eligible to vote :\")"
   ]
  },
  {
   "cell_type": "code",
   "execution_count": null,
   "metadata": {},
   "outputs": [],
   "source": [
    "#Other lang \n",
    "\n",
    "if (a>=18)\n",
    "{\n",
    "     print (\"Eligible to vote \")\n",
    "    \n",
    "}\n",
    "   "
   ]
  },
  {
   "cell_type": "code",
   "execution_count": null,
   "metadata": {},
   "outputs": [],
   "source": [
    "#In python \n",
    "\n",
    "a=int(input(\"enter the age :\"))\n",
    "\n",
    "\n",
    "\n",
    "if a>=18:\n",
    "    print (\"Eligible to vote \")\n",
    "    print (\"Successful\")\n",
    "    "
   ]
  },
  {
   "cell_type": "code",
   "execution_count": null,
   "metadata": {},
   "outputs": [],
   "source": [
    "#WAP to input age of a person , if he/she is above  or equal 18 then say \"Eligible to vote\"\n",
    "#else print \"Not eligible to vote \"\n"
   ]
  },
  {
   "cell_type": "code",
   "execution_count": null,
   "metadata": {},
   "outputs": [],
   "source": [
    "\n",
    "a=int(input(\"enter the age :\"))\n",
    "\n",
    "if a>=18:\n",
    "    print (\"Eligible to vote \")\n",
    "    print (\"Successful\")\n",
    "\n",
    "else:\n",
    "    print (\"Not eligible to vote \")\n",
    "\n",
    "\n",
    "    "
   ]
  },
  {
   "cell_type": "code",
   "execution_count": null,
   "metadata": {},
   "outputs": [],
   "source": [
    "#WAP to input a numb from user and print whether it is Even or Odd\n",
    "\n",
    "num=int(input(\"Enter a number:  \"))\n",
    "if num%2==0:\n",
    "    print (num,\"is Even\")\n",
    "else:\n",
    "    print (num,\"is Odd\")"
   ]
  },
  {
   "cell_type": "code",
   "execution_count": null,
   "metadata": {},
   "outputs": [],
   "source": [
    "# WAP to input a code from user and do the following \n",
    "    #Y --> \"Yellow\"\n",
    "    #G --> \"Green\"\n",
    "    #B --> \"Black\"\n",
    "#else : print --> \"Wrong choice entered \""
   ]
  },
  {
   "cell_type": "code",
   "execution_count": null,
   "metadata": {},
   "outputs": [],
   "source": [
    "#input from user \n",
    "\n"
   ]
  },
  {
   "cell_type": "code",
   "execution_count": null,
   "metadata": {},
   "outputs": [],
   "source": [
    "choice=input (\"Enter a code: \")\n",
    "\n",
    "if choice==\"Y\" or choice==\"y\":\n",
    "    print (\"Yellow \")\n",
    "    \n",
    "elif choice==\"G\" or choice==\"g\":\n",
    "    print (\"Green\")\n",
    "    \n",
    "    \n",
    "elif choice==\"B\" or choice==\"b\":\n",
    "    print (\"Black\")\n",
    "    \n",
    "else:\n",
    "    print (\"Wrong choice entered \")"
   ]
  },
  {
   "cell_type": "code",
   "execution_count": null,
   "metadata": {},
   "outputs": [],
   "source": [
    "#Divisiblity test\n",
    "\n",
    "#WAP to input a num. user \n",
    "\n",
    "#Check whether is divisible by both 2 and 5 , or only 2 or niether by 2 nor 5 if not divisible ≠"
   ]
  },
  {
   "cell_type": "code",
   "execution_count": null,
   "metadata": {},
   "outputs": [],
   "source": [
    "10 \n",
    "≠\n",
    "\n",
    "15\n",
    "\n",
    "§\n",
    "4\n",
    "\n",
    "13 ni"
   ]
  },
  {
   "cell_type": "code",
   "execution_count": null,
   "metadata": {},
   "outputs": [],
   "source": [
    "num=int(input(\"Enter a number:  \"))\n",
    "if num%2==0 and num%5==0:\n",
    "    print (num,\"is divisible by both 2 and 5 \")\n",
    "elif num%2==0  : \n",
    "    print (num,\"is divisible by 2 only \")\n",
    "elif  num%5==0 :\n",
    "    print (num,\"is divisible by 5 only\")\n",
    "else:\n",
    "    print (num,\"is niether divisble by 2 nor 5 \")"
   ]
  },
  {
   "cell_type": "code",
   "execution_count": null,
   "metadata": {},
   "outputs": [],
   "source": [
    "#Iterative Statements \n",
    "\n",
    "#for \n",
    "\n",
    "#while \n"
   ]
  },
  {
   "cell_type": "code",
   "execution_count": null,
   "metadata": {},
   "outputs": [],
   "source": []
  },
  {
   "cell_type": "code",
   "execution_count": null,
   "metadata": {},
   "outputs": [],
   "source": [
    "inp=input(\"Enter your input ( it can either be quit or a number ) :  \")\n",
    "\n",
    "while inp != \"quit\":\n",
    "    \n",
    "    num=int(inp)\n",
    "\n",
    "    if num%2==0 and num%5==0:\n",
    "        print (num,\"is divisible by both 2 and 5 \")\n",
    "    elif num%2==0  : \n",
    "        print (num,\"is divisible by 2 only \")\n",
    "    elif  num%5==0 :\n",
    "        print (num,\"is divisible by 5 only\")\n",
    "    else:\n",
    "        print (num,\"is niether divisble by 2 nor 5 \")\n",
    "    \n",
    "    \n",
    "    inp=input(\"Enter your input ( it can either be quit or a number ) :  \")"
   ]
  },
  {
   "cell_type": "code",
   "execution_count": null,
   "metadata": {},
   "outputs": [],
   "source": [
    "inp = input(\"Enter your input: \")\n",
    "while inp != \"quit\":\n",
    "    num = int(inp)\n",
    "    if num%3==0 and num%6==0:\n",
    "        print(num,\"is dividible by both 6 and 3\")\n",
    "    elif num%3==0:\n",
    "        print(num,\"is dividible by only 3\")\n",
    "    elif num%6==0:\n",
    "        print(num,\"is divisible by only 6\")\n",
    "    else:\n",
    "        print(num,\"is neither divisible by 3 nor 6\")\n",
    "    \n",
    "    inp = input(\"Enter your input: \")"
   ]
  },
  {
   "cell_type": "code",
   "execution_count": null,
   "metadata": {},
   "outputs": [],
   "source": [
    "10 100 10\n",
    "10\n",
    "20\n",
    "30\n"
   ]
  },
  {
   "cell_type": "code",
   "execution_count": 6,
   "metadata": {},
   "outputs": [
    {
     "name": "stdout",
     "output_type": "stream",
     "text": [
      "10\n",
      "20\n",
      "30\n",
      "40\n",
      "50\n",
      "60\n",
      "70\n",
      "80\n",
      "90\n",
      "100\n",
      "110\n"
     ]
    }
   ],
   "source": [
    "i=0\n",
    "    \n",
    "while i<=100:\n",
    "    i+=10\n",
    "    print (i)\n",
    "    \n",
    "   "
   ]
  },
  {
   "cell_type": "code",
   "execution_count": 7,
   "metadata": {
    "scrolled": true
   },
   "outputs": [
    {
     "data": {
      "text/plain": [
       "110"
      ]
     },
     "execution_count": 7,
     "metadata": {},
     "output_type": "execute_result"
    }
   ],
   "source": [
    "i"
   ]
  },
  {
   "cell_type": "code",
   "execution_count": 9,
   "metadata": {},
   "outputs": [],
   "source": [
    "#list : is a type of sequence , hetrogenus collection of values \n",
    "\n",
    "numbers=[1,2,3,4,5]\n",
    "\n",
    "names=['Yash','Sam','Prateek','Vikas','Anil']\n",
    "\n",
    "details=['Yash', 'India', 32, 6.1 ]"
   ]
  },
  {
   "cell_type": "code",
   "execution_count": 10,
   "metadata": {},
   "outputs": [
    {
     "data": {
      "text/plain": [
       "list"
      ]
     },
     "execution_count": 10,
     "metadata": {},
     "output_type": "execute_result"
    }
   ],
   "source": [
    "type(names)"
   ]
  },
  {
   "cell_type": "code",
   "execution_count": 11,
   "metadata": {},
   "outputs": [
    {
     "data": {
      "text/plain": [
       "list"
      ]
     },
     "execution_count": 11,
     "metadata": {},
     "output_type": "execute_result"
    }
   ],
   "source": [
    "type(numbers)"
   ]
  },
  {
   "cell_type": "code",
   "execution_count": 12,
   "metadata": {},
   "outputs": [
    {
     "data": {
      "text/plain": [
       "list"
      ]
     },
     "execution_count": 12,
     "metadata": {},
     "output_type": "execute_result"
    }
   ],
   "source": [
    "type(details)"
   ]
  },
  {
   "cell_type": "code",
   "execution_count": 13,
   "metadata": {},
   "outputs": [
    {
     "name": "stdout",
     "output_type": "stream",
     "text": [
      "Vikas Prateek\n"
     ]
    }
   ],
   "source": [
    "#0 based indexing \n",
    "names=['Yash','Sam','Prateek','Vikas','Anil']\n",
    "\n",
    "\n",
    "print(names[3],names[2])\n"
   ]
  },
  {
   "cell_type": "code",
   "execution_count": 14,
   "metadata": {},
   "outputs": [
    {
     "name": "stdout",
     "output_type": "stream",
     "text": [
      "Yash....Sam....Prateek....Vikas...."
     ]
    }
   ],
   "source": [
    "#for loop : is mostly when the number of iterations or runs are known in advance \n",
    "\n",
    "names=['Yash','Sam','Prateek','Vikas','Anil']\n",
    "\n",
    "\n",
    "for each_element in names:\n",
    "    if 'a' in each_element:\n",
    "        print (each_element,end=\"....\")"
   ]
  },
  {
   "cell_type": "code",
   "execution_count": 16,
   "metadata": {},
   "outputs": [
    {
     "name": "stdout",
     "output_type": "stream",
     "text": [
      "Yash YashYash\n",
      "Vikas VikasVikas\n"
     ]
    }
   ],
   "source": [
    "names=['Yash','Sam','Prateek','Vikas','Anil']\n",
    "for x in names:\n",
    "    if \"s\" in x:\n",
    "        print(x,x*2)"
   ]
  },
  {
   "cell_type": "code",
   "execution_count": null,
   "metadata": {},
   "outputs": [],
   "source": [
    "#for loop : is mostly when the number of iterations or runs are known in advance \n",
    "\n",
    "numbers=[1,2,3,4,5]\n",
    "\n",
    "\n",
    "for each_element in numbers:\n",
    "    print (each_element,each_element*3,each_element**3)"
   ]
  },
  {
   "cell_type": "code",
   "execution_count": null,
   "metadata": {},
   "outputs": [],
   "source": [
    "3**3"
   ]
  },
  {
   "cell_type": "code",
   "execution_count": 17,
   "metadata": {},
   "outputs": [
    {
     "name": "stdout",
     "output_type": "stream",
     "text": [
      "1 Odd 1\n",
      "2 Even 4\n",
      "3 Odd 27\n",
      "4 Even 16\n",
      "5 Odd 125\n"
     ]
    }
   ],
   "source": [
    "numbers=[1,2,3,4,5]\n",
    "\n",
    "\n",
    "for each_element in numbers:\n",
    "    if each_element%2==0:  #Even number \n",
    "        print (each_element,\"Even\",each_element**2) #Square\n",
    "    else :\n",
    "        print (each_element,\"Odd\",each_element**3) #Cube"
   ]
  },
  {
   "cell_type": "code",
   "execution_count": 18,
   "metadata": {},
   "outputs": [
    {
     "data": {
      "text/plain": [
       "['Yash', 'India', 32, 6.1]"
      ]
     },
     "execution_count": 18,
     "metadata": {},
     "output_type": "execute_result"
    }
   ],
   "source": [
    "details"
   ]
  },
  {
   "cell_type": "code",
   "execution_count": 19,
   "metadata": {},
   "outputs": [
    {
     "name": "stdout",
     "output_type": "stream",
     "text": [
      "Yash <class 'str'>\n",
      "India <class 'str'>\n",
      "32 <class 'int'>\n",
      "6.1 <class 'float'>\n"
     ]
    }
   ],
   "source": [
    "for element in details:\n",
    "    print (element,type(element))"
   ]
  },
  {
   "cell_type": "code",
   "execution_count": null,
   "metadata": {},
   "outputs": [],
   "source": [
    "#Print the sqaures of 10 numbers in a list \n",
    "\n",
    "#For \n",
    "\n",
    "#while\n",
    "\n",
    "\n",
    "# Take items from a user and store in a list \n",
    "\n",
    "\n",
    "bread\n",
    "butter\n",
    "milk\n",
    "eggs\n",
    "cheese\n",
    "\n",
    "quit\n",
    "\n",
    "\n"
   ]
  },
  {
   "cell_type": "code",
   "execution_count": 20,
   "metadata": {},
   "outputs": [
    {
     "name": "stdout",
     "output_type": "stream",
     "text": [
      "41\n",
      "37\n",
      "43\n",
      "23\n",
      "56\n",
      "23\n",
      "56\n",
      "35\n",
      "29\n",
      "30\n"
     ]
    }
   ],
   "source": [
    "l=[1,12,13,41,37,43,23,56,1,23,13,56,35,29,30]\n",
    "for each in l:\n",
    "    if each>14:\n",
    "        \n",
    "        print (each)"
   ]
  },
  {
   "cell_type": "code",
   "execution_count": null,
   "metadata": {},
   "outputs": [],
   "source": [
    "l=[11,1,12,13,41,37,43,23,56,1,23,13,56,35,29,30]\n",
    "for each in l:\n",
    "    if each>14:\n",
    "        break \n",
    "        \n",
    "    print (each)"
   ]
  },
  {
   "cell_type": "code",
   "execution_count": null,
   "metadata": {},
   "outputs": [],
   "source": [
    "\n",
    "inp=input(\"Enter your input ( it can either be quit or a number ) :  \")\n",
    "\n",
    "while inp != \"quit\":\n",
    "    \n",
    "    num=int(inp)\n",
    "\n",
    "    if num%2==0 and num%5==0:\n",
    "        print (num,\"is divisible by both 2 and 5 \")\n",
    "    elif num%2==0  : \n",
    "        print (num,\"is divisible by 2 only \")\n",
    "    elif  num%5==0 :\n",
    "        print (num,\"is divisible by 5 only\")\n",
    "    else:\n",
    "        print (num,\"is niether divisble by 2 nor 5 \")\n",
    "    \n",
    "    \n",
    "    inp=input(\"Enter your input ( it can either be quit or a number ) :  \")\n",
    "\n"
   ]
  },
  {
   "cell_type": "code",
   "execution_count": null,
   "metadata": {},
   "outputs": [],
   "source": [
    "\n",
    "\n",
    "while True:\n",
    "    \n",
    "    inp=input(\"Enter your input ( it can either be quit or a number ) :  \")\n",
    "    \n",
    "    if inp==\"quit\":\n",
    "        break\n",
    "        \n",
    "    num=int(inp)\n",
    "\n",
    "    if num%2==0 and num%5==0:\n",
    "        print (num,\"is divisible by both 2 and 5 \")\n",
    "    elif num%2==0  : \n",
    "        print (num,\"is divisible by 2 only \")\n",
    "    elif  num%5==0 :\n",
    "        print (num,\"is divisible by 5 only\")\n",
    "    else:\n",
    "        print (num,\"is niether divisble by 2 nor 5 \")\n",
    "        \n",
    "print (\"User entered quit so came out ...\")\n",
    "    \n",
    "\n"
   ]
  },
  {
   "cell_type": "code",
   "execution_count": 24,
   "metadata": {},
   "outputs": [
    {
     "name": "stdout",
     "output_type": "stream",
     "text": [
      "12\n",
      "13\n",
      "45\n",
      "67\n",
      "43\n",
      "83\n",
      "96\n",
      "23\n",
      "13\n",
      "56\n",
      "35\n",
      "29\n",
      "30\n"
     ]
    }
   ],
   "source": [
    "l=[12,13,45,67,43,83,96,23,13,56,35,29,30]\n",
    "for each in l:\n",
    "    if each>60:\n",
    "        pass\n",
    "    print (each)"
   ]
  },
  {
   "cell_type": "code",
   "execution_count": null,
   "metadata": {},
   "outputs": [],
   "source": [
    "pass \n",
    "return : functions "
   ]
  },
  {
   "cell_type": "code",
   "execution_count": null,
   "metadata": {},
   "outputs": [],
   "source": [
    "numbers"
   ]
  },
  {
   "cell_type": "code",
   "execution_count": null,
   "metadata": {},
   "outputs": [],
   "source": [
    "for each in numbers:\n",
    "    pass\n",
    "\n"
   ]
  },
  {
   "cell_type": "code",
   "execution_count": null,
   "metadata": {},
   "outputs": [],
   "source": [
    "#First modules \n",
    "\n",
    "#datatype\n",
    "\n",
    "#variables\n",
    "\n",
    "# operations\n",
    "\n",
    "#comments \n",
    "\n",
    "#statements : conditional if  if-else if elif-else\n",
    "                iterative \n",
    "\n"
   ]
  },
  {
   "cell_type": "code",
   "execution_count": null,
   "metadata": {},
   "outputs": [],
   "source": [
    "Python's sequences \n",
    "\n",
    "#list\n",
    "\n",
    "\n",
    "#tuples\n",
    "#dict\n",
    "#string\n",
    "#set \n",
    "\n",
    "\n"
   ]
  },
  {
   "cell_type": "code",
   "execution_count": 25,
   "metadata": {},
   "outputs": [],
   "source": [
    "l1=[]"
   ]
  },
  {
   "cell_type": "code",
   "execution_count": 26,
   "metadata": {},
   "outputs": [
    {
     "data": {
      "text/plain": [
       "list"
      ]
     },
     "execution_count": 26,
     "metadata": {},
     "output_type": "execute_result"
    }
   ],
   "source": [
    "type(l1)"
   ]
  },
  {
   "cell_type": "code",
   "execution_count": 27,
   "metadata": {},
   "outputs": [],
   "source": [
    "l1.append(78)\n"
   ]
  },
  {
   "cell_type": "code",
   "execution_count": 28,
   "metadata": {},
   "outputs": [
    {
     "data": {
      "text/plain": [
       "[78]"
      ]
     },
     "execution_count": 28,
     "metadata": {},
     "output_type": "execute_result"
    }
   ],
   "source": [
    "l1"
   ]
  },
  {
   "cell_type": "code",
   "execution_count": 29,
   "metadata": {},
   "outputs": [],
   "source": [
    "l1.append(85)\n"
   ]
  },
  {
   "cell_type": "code",
   "execution_count": 30,
   "metadata": {},
   "outputs": [
    {
     "data": {
      "text/plain": [
       "[78, 85]"
      ]
     },
     "execution_count": 30,
     "metadata": {},
     "output_type": "execute_result"
    }
   ],
   "source": [
    "l1"
   ]
  },
  {
   "cell_type": "code",
   "execution_count": 31,
   "metadata": {},
   "outputs": [
    {
     "name": "stdout",
     "output_type": "stream",
     "text": [
      "Enter a num: 23\n",
      "Enter a num: 34\n",
      "Enter a num: 56\n",
      "Enter a num: 78\n",
      "Enter a num: 90\n"
     ]
    }
   ],
   "source": [
    "numbers_list=[]\n",
    "for each in [1,2,3,4,5]:\n",
    "    inp=int(input(\"Enter a num: \"))\n",
    "    numbers_list.append(inp)"
   ]
  },
  {
   "cell_type": "code",
   "execution_count": 32,
   "metadata": {},
   "outputs": [
    {
     "data": {
      "text/plain": [
       "[23, 34, 56, 78, 90]"
      ]
     },
     "execution_count": 32,
     "metadata": {},
     "output_type": "execute_result"
    }
   ],
   "source": [
    "numbers_list"
   ]
  },
  {
   "cell_type": "code",
   "execution_count": null,
   "metadata": {},
   "outputs": [],
   "source": [
    "friends = []\n",
    "for x in [1,2,3,4,5]:\n",
    "    inp = input(\"Enter your friends name: \")\n",
    "    friends.append(inp)\n",
    "    print(friends)"
   ]
  },
  {
   "cell_type": "code",
   "execution_count": null,
   "metadata": {},
   "outputs": [],
   "source": [
    "numbers_list"
   ]
  },
  {
   "cell_type": "code",
   "execution_count": null,
   "metadata": {},
   "outputs": [],
   "source": [
    "numbers_list=[]\n",
    "\n",
    "while True:\n",
    "    inp=input(\"Enter a num: \")\n",
    "    if inp==\"quit\":\n",
    "        break\n",
    "    num=int(inp)\n",
    "    numbers_list.append(num)"
   ]
  },
  {
   "cell_type": "code",
   "execution_count": null,
   "metadata": {},
   "outputs": [],
   "source": [
    "numbers_list"
   ]
  },
  {
   "cell_type": "code",
   "execution_count": null,
   "metadata": {},
   "outputs": [],
   "source": [
    "numbers_list=[45, 32, 67, 90, 120]"
   ]
  },
  {
   "cell_type": "code",
   "execution_count": null,
   "metadata": {},
   "outputs": [],
   "source": []
  },
  {
   "cell_type": "code",
   "execution_count": null,
   "metadata": {},
   "outputs": [],
   "source": [
    "numbers_list.append(89)"
   ]
  },
  {
   "cell_type": "code",
   "execution_count": null,
   "metadata": {},
   "outputs": [],
   "source": [
    "numbers_list\n"
   ]
  },
  {
   "cell_type": "code",
   "execution_count": null,
   "metadata": {},
   "outputs": [],
   "source": [
    "numbers_list.insert(1,213)"
   ]
  },
  {
   "cell_type": "code",
   "execution_count": null,
   "metadata": {},
   "outputs": [],
   "source": [
    "numbers_list"
   ]
  },
  {
   "cell_type": "code",
   "execution_count": null,
   "metadata": {},
   "outputs": [],
   "source": [
    "len(numbers_list)"
   ]
  },
  {
   "cell_type": "code",
   "execution_count": null,
   "metadata": {},
   "outputs": [],
   "source": [
    "numbers_list.insert(1,213)"
   ]
  },
  {
   "cell_type": "code",
   "execution_count": null,
   "metadata": {},
   "outputs": [],
   "source": [
    "numbers_list\n"
   ]
  },
  {
   "cell_type": "code",
   "execution_count": null,
   "metadata": {},
   "outputs": [],
   "source": [
    "#adding an element \n",
    "\n",
    "    #index  # insert function \n",
    "    \n",
    "    #towards the end as well  #append function \n",
    "     \n",
    "    \n",
    "    \n",
    "#deleting an element \n",
    "    #index wise : pop function \n",
    " \n",
    "        #index\n",
    "    \n",
    "        #remove the value at last index \n",
    "        \n",
    "    #vaalue : remove function \n",
    "    "
   ]
  },
  {
   "cell_type": "code",
   "execution_count": null,
   "metadata": {},
   "outputs": [],
   "source": [
    "numbers_list.pop()"
   ]
  },
  {
   "cell_type": "code",
   "execution_count": null,
   "metadata": {},
   "outputs": [],
   "source": [
    "numbers_list"
   ]
  },
  {
   "cell_type": "code",
   "execution_count": null,
   "metadata": {},
   "outputs": [],
   "source": [
    "numbers_list.pop()"
   ]
  },
  {
   "cell_type": "code",
   "execution_count": null,
   "metadata": {},
   "outputs": [],
   "source": [
    "numbers_list.pop()"
   ]
  },
  {
   "cell_type": "code",
   "execution_count": null,
   "metadata": {},
   "outputs": [],
   "source": [
    "numbers_list"
   ]
  },
  {
   "cell_type": "code",
   "execution_count": null,
   "metadata": {},
   "outputs": [],
   "source": [
    "numbers_list.pop(0)"
   ]
  },
  {
   "cell_type": "code",
   "execution_count": null,
   "metadata": {},
   "outputs": [],
   "source": [
    "numbers_list=[45, 213, 213, 32, 67, 90, 120]"
   ]
  },
  {
   "cell_type": "code",
   "execution_count": null,
   "metadata": {},
   "outputs": [],
   "source": [
    "numbers_list.sort(reverse=True)"
   ]
  },
  {
   "cell_type": "code",
   "execution_count": null,
   "metadata": {},
   "outputs": [],
   "source": []
  },
  {
   "cell_type": "code",
   "execution_count": 6,
   "metadata": {},
   "outputs": [],
   "source": [
    "numbers_list=[45, 213, 213, 32, 67, 90, 120]\n"
   ]
  },
  {
   "cell_type": "code",
   "execution_count": 7,
   "metadata": {},
   "outputs": [],
   "source": [
    "numbers_list.remove(45) #delete  element wise "
   ]
  },
  {
   "cell_type": "code",
   "execution_count": 8,
   "metadata": {},
   "outputs": [],
   "source": [
    "numbers_list.remove(213)"
   ]
  },
  {
   "cell_type": "code",
   "execution_count": 9,
   "metadata": {},
   "outputs": [
    {
     "data": {
      "text/plain": [
       "[213, 32, 67, 90, 120]"
      ]
     },
     "execution_count": 9,
     "metadata": {},
     "output_type": "execute_result"
    }
   ],
   "source": [
    "numbers_list"
   ]
  },
  {
   "cell_type": "code",
   "execution_count": 10,
   "metadata": {},
   "outputs": [
    {
     "ename": "IndexError",
     "evalue": "pop index out of range",
     "output_type": "error",
     "traceback": [
      "\u001b[1;31m---------------------------------------------------------------------------\u001b[0m",
      "\u001b[1;31mIndexError\u001b[0m                                Traceback (most recent call last)",
      "\u001b[1;32m<ipython-input-10-baa2a1f7ec1c>\u001b[0m in \u001b[0;36m<module>\u001b[1;34m\u001b[0m\n\u001b[1;32m----> 1\u001b[1;33m \u001b[0mnumbers_list\u001b[0m\u001b[1;33m.\u001b[0m\u001b[0mpop\u001b[0m\u001b[1;33m(\u001b[0m\u001b[1;36m100\u001b[0m\u001b[1;33m)\u001b[0m\u001b[1;33m\u001b[0m\u001b[1;33m\u001b[0m\u001b[0m\n\u001b[0m",
      "\u001b[1;31mIndexError\u001b[0m: pop index out of range"
     ]
    }
   ],
   "source": [
    "numbers_list.pop(100)"
   ]
  },
  {
   "cell_type": "code",
   "execution_count": 11,
   "metadata": {},
   "outputs": [],
   "source": [
    "numbers_list.clear()"
   ]
  },
  {
   "cell_type": "code",
   "execution_count": 12,
   "metadata": {},
   "outputs": [
    {
     "data": {
      "text/plain": [
       "[]"
      ]
     },
     "execution_count": 12,
     "metadata": {},
     "output_type": "execute_result"
    }
   ],
   "source": [
    "numbers_list"
   ]
  },
  {
   "cell_type": "code",
   "execution_count": 13,
   "metadata": {},
   "outputs": [],
   "source": [
    "numbers_list=[213, 32, 67, 90, 120,213,89,34,32,67,213]\n"
   ]
  },
  {
   "cell_type": "code",
   "execution_count": 14,
   "metadata": {},
   "outputs": [
    {
     "data": {
      "text/plain": [
       "{32, 34, 67, 89, 90, 120, 213}"
      ]
     },
     "execution_count": 14,
     "metadata": {},
     "output_type": "execute_result"
    }
   ],
   "source": [
    "set(numbers_list\n",
    "   \n",
    "   )"
   ]
  },
  {
   "cell_type": "code",
   "execution_count": 15,
   "metadata": {},
   "outputs": [
    {
     "data": {
      "text/plain": [
       "[213, 32, 67, 90, 120, 213, 89, 34, 32, 67, 213, 1, 2, 3, 4, 5]"
      ]
     },
     "execution_count": 15,
     "metadata": {},
     "output_type": "execute_result"
    }
   ],
   "source": [
    "numbers_list+[1,2,3,4,5]"
   ]
  },
  {
   "cell_type": "code",
   "execution_count": 18,
   "metadata": {},
   "outputs": [],
   "source": [
    "l1=[1, 2, 3, 4, 5]"
   ]
  },
  {
   "cell_type": "code",
   "execution_count": 19,
   "metadata": {},
   "outputs": [
    {
     "data": {
      "text/plain": [
       "[213, 32, 67, 90, 120, 213, 89, 34, 32, 67, 213]"
      ]
     },
     "execution_count": 19,
     "metadata": {},
     "output_type": "execute_result"
    }
   ],
   "source": [
    "numbers_list"
   ]
  },
  {
   "cell_type": "code",
   "execution_count": 20,
   "metadata": {},
   "outputs": [
    {
     "data": {
      "text/plain": [
       "[213, 32, 67, 90, 120, 213, 89, 34, 32, 67, 213, 1, 2, 3, 4, 5]"
      ]
     },
     "execution_count": 20,
     "metadata": {},
     "output_type": "execute_result"
    }
   ],
   "source": [
    "numbers_list+l1"
   ]
  },
  {
   "cell_type": "code",
   "execution_count": 21,
   "metadata": {},
   "outputs": [],
   "source": [
    "numbers_list.extend(l1)"
   ]
  },
  {
   "cell_type": "code",
   "execution_count": 22,
   "metadata": {},
   "outputs": [
    {
     "data": {
      "text/plain": [
       "[213, 32, 67, 90, 120, 213, 89, 34, 32, 67, 213, 1, 2, 3, 4, 5]"
      ]
     },
     "execution_count": 22,
     "metadata": {},
     "output_type": "execute_result"
    }
   ],
   "source": [
    "numbers_list"
   ]
  },
  {
   "cell_type": "code",
   "execution_count": 23,
   "metadata": {},
   "outputs": [
    {
     "data": {
      "text/plain": [
       "[32, 67, 90]"
      ]
     },
     "execution_count": 23,
     "metadata": {},
     "output_type": "execute_result"
    }
   ],
   "source": [
    "numbers_list[1:4]   #subset \n",
    "\n"
   ]
  },
  {
   "cell_type": "code",
   "execution_count": 24,
   "metadata": {},
   "outputs": [
    {
     "data": {
      "text/plain": [
       "[1, 2, 3, 4, 'Alex', 'Tom', 'James', 'Nic']"
      ]
     },
     "execution_count": 24,
     "metadata": {},
     "output_type": "execute_result"
    }
   ],
   "source": [
    "num_lis=[1,2,3,4]\n",
    "nam_lit=['Alex','Tom','James','Nic']\n",
    "num_lis+nam_lit"
   ]
  },
  {
   "cell_type": "code",
   "execution_count": 25,
   "metadata": {},
   "outputs": [],
   "source": [
    "num_lis.extend(nam_lit)"
   ]
  },
  {
   "cell_type": "code",
   "execution_count": 26,
   "metadata": {},
   "outputs": [
    {
     "data": {
      "text/plain": [
       "[1, 2, 3, 4, 'Alex', 'Tom', 'James', 'Nic']"
      ]
     },
     "execution_count": 26,
     "metadata": {},
     "output_type": "execute_result"
    }
   ],
   "source": [
    "num_lis"
   ]
  },
  {
   "cell_type": "code",
   "execution_count": 27,
   "metadata": {},
   "outputs": [
    {
     "data": {
      "text/plain": [
       "['Alex', 'Tom', 'James', 'Nic']"
      ]
     },
     "execution_count": 27,
     "metadata": {},
     "output_type": "execute_result"
    }
   ],
   "source": [
    "nam_lit"
   ]
  },
  {
   "cell_type": "code",
   "execution_count": null,
   "metadata": {},
   "outputs": [],
   "source": []
  }
 ],
 "metadata": {
  "kernelspec": {
   "display_name": "Python 3",
   "language": "python",
   "name": "python3"
  },
  "language_info": {
   "codemirror_mode": {
    "name": "ipython",
    "version": 3
   },
   "file_extension": ".py",
   "mimetype": "text/x-python",
   "name": "python",
   "nbconvert_exporter": "python",
   "pygments_lexer": "ipython3",
   "version": "3.8.5"
  }
 },
 "nbformat": 4,
 "nbformat_minor": 2
}
