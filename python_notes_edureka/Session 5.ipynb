{
 "cells": [
  {
   "cell_type": "code",
   "execution_count": 1,
   "metadata": {},
   "outputs": [],
   "source": [
    "#reduce function \n",
    "\n",
    "from functools import reduce\n"
   ]
  },
  {
   "cell_type": "code",
   "execution_count": 8,
   "metadata": {},
   "outputs": [
    {
     "data": {
      "text/plain": [
       "21"
      ]
     },
     "execution_count": 8,
     "metadata": {},
     "output_type": "execute_result"
    }
   ],
   "source": [
    "reduce(lambda x,y:x+y,[1,2,3,4,5,6])"
   ]
  },
  {
   "cell_type": "code",
   "execution_count": null,
   "metadata": {},
   "outputs": [],
   "source": [
    "[1,2,3,4,5]\n",
    "\n",
    "[3,3,4,5]\n",
    "\n",
    "[6,4,5]\n",
    "\n",
    "[10,5]\n",
    "\n",
    "15\n"
   ]
  },
  {
   "cell_type": "code",
   "execution_count": null,
   "metadata": {},
   "outputs": [],
   "source": [
    "5\n",
    "1*2*3*4*5=120\n",
    "\n",
    "6!\n",
    "\n",
    "1*2*3*4*5*6=720\n"
   ]
  },
  {
   "cell_type": "code",
   "execution_count": 4,
   "metadata": {},
   "outputs": [
    {
     "name": "stdout",
     "output_type": "stream",
     "text": [
      "Enter a number : 67\n",
      "36471110918188685288249859096605464427167635314049524593701628500267962436943872000000000000000\n"
     ]
    }
   ],
   "source": [
    "n=int(input(\"Enter a number : \"))\n",
    "fac=reduce(lambda x,y:x*y,range(1,n+1))\n",
    "print (fac)"
   ]
  },
  {
   "cell_type": "code",
   "execution_count": 5,
   "metadata": {},
   "outputs": [
    {
     "data": {
      "text/plain": [
       "21"
      ]
     },
     "execution_count": 5,
     "metadata": {},
     "output_type": "execute_result"
    }
   ],
   "source": [
    "reduce(lambda x,y:x+y,[1,2,3,4,5,6])"
   ]
  },
  {
   "cell_type": "code",
   "execution_count": null,
   "metadata": {},
   "outputs": [],
   "source": []
  },
  {
   "cell_type": "code",
   "execution_count": null,
   "metadata": {},
   "outputs": [],
   "source": [
    "#OOPS\n",
    "\n",
    "clsss : a collection of functions and variables \n",
    "\n",
    "object\n",
    "\n",
    "constructor \n",
    "\n",
    "principles of OOP \n",
    "abstraction\n",
    "encaspsulation\n",
    "inheritence\n",
    "overriding\n",
    "polymorphism\n",
    "\n",
    "access specifiers\n",
    "\n",
    "\n",
    "exception handling \n",
    "\n",
    "\n",
    "\n"
   ]
  },
  {
   "cell_type": "code",
   "execution_count": 46,
   "metadata": {},
   "outputs": [],
   "source": [
    "class Flower():\n",
    "    \n",
    "    def PrintName(self,name):\n",
    "        print (\"The name of the flower is :\",name)\n",
    "        \n",
    "    def PrintColor(self,color):\n",
    "        print (\"The color of the flower is :\",color)\n",
    "        \n",
    "    def PrintQuantity(self,quan):\n",
    "        print (\"The quantity of the flowers required :\",quan)\n",
    "\n",
    "    def PrintDetails(self):\n",
    "        self.PrintName(\"Rose\")\n",
    "        self.PrintColor(\"Red\")\n",
    "        self.PrintQuantity(1000)"
   ]
  },
  {
   "cell_type": "code",
   "execution_count": 47,
   "metadata": {},
   "outputs": [],
   "source": [
    "f=Flower()"
   ]
  },
  {
   "cell_type": "code",
   "execution_count": 49,
   "metadata": {},
   "outputs": [
    {
     "name": "stdout",
     "output_type": "stream",
     "text": [
      "The name of the flower is : Rose\n"
     ]
    }
   ],
   "source": [
    "f.PrintName(\"Rose\")\n"
   ]
  },
  {
   "cell_type": "code",
   "execution_count": 50,
   "metadata": {},
   "outputs": [
    {
     "name": "stdout",
     "output_type": "stream",
     "text": [
      "The color of the flower is : Red\n"
     ]
    }
   ],
   "source": [
    "f.PrintColor(\"Red\")\n"
   ]
  },
  {
   "cell_type": "code",
   "execution_count": 51,
   "metadata": {},
   "outputs": [
    {
     "name": "stdout",
     "output_type": "stream",
     "text": [
      "The quantity of the flowers required : 1000\n"
     ]
    }
   ],
   "source": [
    "f.PrintQuantity(1000)"
   ]
  },
  {
   "cell_type": "code",
   "execution_count": 52,
   "metadata": {},
   "outputs": [
    {
     "name": "stdout",
     "output_type": "stream",
     "text": [
      "The name of the flower is : Rose\n",
      "The color of the flower is : Red\n",
      "The quantity of the flowers required : 1000\n"
     ]
    }
   ],
   "source": [
    "f.PrintDetails()"
   ]
  },
  {
   "cell_type": "code",
   "execution_count": 58,
   "metadata": {},
   "outputs": [],
   "source": [
    "class Flower():\n",
    "    \n",
    "    def PrintName(self,name):\n",
    "        print (\"The name ` is :\",name)\n",
    "        \n",
    "    def PrintColor(self,color):\n",
    "        print (\"The color of the flower is :\",color)\n",
    "        \n",
    "    def PrintQuantity(self,quan):\n",
    "        print (\"The quantity of the flowers required :\",quan)\n",
    "\n",
    "    def PrintDetails(self):\n",
    "        self.PrintName(\"Rose\")\n",
    "        self.PrintColor(\"Red\")\n",
    "        self.PrintQuantity(1000)"
   ]
  },
  {
   "cell_type": "code",
   "execution_count": 59,
   "metadata": {},
   "outputs": [],
   "source": [
    "def PrintName():\n",
    "    print (\"ABC\")"
   ]
  },
  {
   "cell_type": "code",
   "execution_count": 60,
   "metadata": {},
   "outputs": [],
   "source": [
    "f=Flower()"
   ]
  },
  {
   "cell_type": "code",
   "execution_count": 61,
   "metadata": {},
   "outputs": [
    {
     "name": "stdout",
     "output_type": "stream",
     "text": [
      "The name of the flower is : Rose\n",
      "The color of the flower is : Red\n",
      "The quantity of the flowers required : 1000\n"
     ]
    }
   ],
   "source": [
    "f.PrintDetails()"
   ]
  },
  {
   "cell_type": "code",
   "execution_count": 62,
   "metadata": {},
   "outputs": [],
   "source": [
    "name=\"Lily\"\n",
    "color=\"White\"\n",
    "quan=3000"
   ]
  },
  {
   "cell_type": "code",
   "execution_count": 80,
   "metadata": {},
   "outputs": [],
   "source": [
    "class Flower():\n",
    "    \n",
    "    name=\"Rose\"\n",
    "    color=\"Red\"\n",
    "    quan=1000\n",
    "    self=\"yash\"\n",
    "    \n",
    "    def PrintName(self):\n",
    "        print (\"The name of the flower is :\",self.name)\n",
    "        \n",
    "    def PrintColor(self):\n",
    "        print (\"The color of the flower is :\",self.color)\n",
    "        \n",
    "    def PrintQuantity(self):\n",
    "        print (\"The quantity of the flowers required :\",self.quan)\n",
    "\n",
    "    def PrintSelf(self):\n",
    "        print (self.self)\n",
    "        \n",
    "    def PrintDetails(self):\n",
    "        self.PrintName()\n",
    "        self.PrintColor()\n",
    "        self.PrintQuantity()\n",
    "        self.PrintSelf()"
   ]
  },
  {
   "cell_type": "code",
   "execution_count": 81,
   "metadata": {},
   "outputs": [],
   "source": [
    "f=Flower()"
   ]
  },
  {
   "cell_type": "code",
   "execution_count": 82,
   "metadata": {},
   "outputs": [
    {
     "name": "stdout",
     "output_type": "stream",
     "text": [
      "The name of the flower is : Rose\n",
      "The color of the flower is : Red\n",
      "The quantity of the flowers required : 1000\n",
      "yash\n"
     ]
    }
   ],
   "source": [
    "f.PrintDetails()"
   ]
  },
  {
   "cell_type": "code",
   "execution_count": 87,
   "metadata": {},
   "outputs": [],
   "source": [
    "#construtor : is a special function which is used to assign values to the variable \n",
    "#initilizing values to the variables \n",
    "\n",
    "# it's name is always :  __init__\n",
    "\n",
    "\n",
    "class Flower():\n",
    "    \n",
    "    #Constructor \n",
    "    def __init__(self,n,c,q):\n",
    "        self.name=n\n",
    "        self.color=c\n",
    "        self.quan=q\n",
    "        \n",
    "    \n",
    "    def PrintName(self):\n",
    "        print (\"The name of the flower is :\",self.name)\n",
    "        \n",
    "    def PrintColor(self):\n",
    "        print (\"The color of the flower is :\",self.color)\n",
    "        \n",
    "    def PrintQuantity(self):\n",
    "        print (\"The quantity of the flowers required :\",self.quan)\n",
    "\n",
    "\n",
    "    def PrintDetails(self):\n",
    "        self.PrintName()\n",
    "        self.PrintColor()\n",
    "        self.PrintQuantity()\n",
    "        \n",
    "        \n",
    "\n"
   ]
  },
  {
   "cell_type": "code",
   "execution_count": 88,
   "metadata": {},
   "outputs": [],
   "source": [
    "f=Flower(n=\"Lily\",c=\"White\",q=3000)\n"
   ]
  },
  {
   "cell_type": "code",
   "execution_count": 89,
   "metadata": {},
   "outputs": [
    {
     "name": "stdout",
     "output_type": "stream",
     "text": [
      "The name of the flower is : Lily\n",
      "The color of the flower is : White\n",
      "The quantity of the flowers required : 3000\n"
     ]
    }
   ],
   "source": [
    "f.PrintDetails()"
   ]
  },
  {
   "cell_type": "code",
   "execution_count": 90,
   "metadata": {},
   "outputs": [
    {
     "name": "stdout",
     "output_type": "stream",
     "text": [
      "The name of the flower is : Lily\n",
      "The color of the flower is : White\n",
      "The quantity of the flowers required : 3000\n"
     ]
    }
   ],
   "source": [
    "f=Flower(\"Lily\",\"White\",3000)\n",
    "f.PrintDetails()"
   ]
  },
  {
   "cell_type": "code",
   "execution_count": 91,
   "metadata": {},
   "outputs": [],
   "source": [
    "class SignUp():\n",
    "    \n",
    "    def __init__(self,name,password,dob,email):\n",
    "        \n",
    "        self.name=name\n",
    "        self.password=password\n",
    "        self.dob=dob\n",
    "        self.email=email\n",
    "        \n",
    "    def ConnectToDB(self):\n",
    "        print (\"Connection to DB established...\")\n",
    "        \n",
    "    def PerformChecks(self):\n",
    "        print (\"All checks performed \")\n",
    "        \n",
    "    def StorDetailstoDB(self):\n",
    "        print(\"All details stored \")\n",
    "        \n",
    "    "
   ]
  },
  {
   "cell_type": "code",
   "execution_count": 92,
   "metadata": {},
   "outputs": [],
   "source": [
    "user1=SignUp(\"Jay\",\"12345\",\"12thJan2020\",\"abc@gmail.com\")"
   ]
  },
  {
   "cell_type": "code",
   "execution_count": 93,
   "metadata": {},
   "outputs": [
    {
     "name": "stdout",
     "output_type": "stream",
     "text": [
      "All checks performed \n"
     ]
    }
   ],
   "source": [
    "user1.PerformChecks()"
   ]
  },
  {
   "cell_type": "code",
   "execution_count": 94,
   "metadata": {},
   "outputs": [
    {
     "name": "stdout",
     "output_type": "stream",
     "text": [
      "Connection to DB established...\n"
     ]
    }
   ],
   "source": [
    "user1.ConnectToDB()"
   ]
  },
  {
   "cell_type": "code",
   "execution_count": 95,
   "metadata": {},
   "outputs": [
    {
     "name": "stdout",
     "output_type": "stream",
     "text": [
      "All details stored \n"
     ]
    }
   ],
   "source": [
    "user1.StorDetailstoDB()"
   ]
  },
  {
   "cell_type": "code",
   "execution_count": 96,
   "metadata": {},
   "outputs": [],
   "source": [
    "user2=SignUp(\"Siddharth\",\"12345\",\"12thJan2020\",\"abc@gmail.com\")"
   ]
  },
  {
   "cell_type": "code",
   "execution_count": 97,
   "metadata": {},
   "outputs": [
    {
     "name": "stdout",
     "output_type": "stream",
     "text": [
      "All checks performed \n",
      "Connection to DB established...\n",
      "All details stored \n"
     ]
    }
   ],
   "source": [
    "user2.PerformChecks()\n",
    "user2.ConnectToDB()\n",
    "user2.StorDetailstoDB()"
   ]
  },
  {
   "cell_type": "code",
   "execution_count": 98,
   "metadata": {},
   "outputs": [],
   "source": [
    "from Calci import Calculate"
   ]
  },
  {
   "cell_type": "code",
   "execution_count": 100,
   "metadata": {},
   "outputs": [],
   "source": [
    "c=Calculate(100,50)  # c is an object "
   ]
  },
  {
   "cell_type": "code",
   "execution_count": 101,
   "metadata": {},
   "outputs": [
    {
     "data": {
      "text/plain": [
       "150"
      ]
     },
     "execution_count": 101,
     "metadata": {},
     "output_type": "execute_result"
    }
   ],
   "source": [
    "c.Add()"
   ]
  },
  {
   "cell_type": "code",
   "execution_count": 102,
   "metadata": {},
   "outputs": [
    {
     "data": {
      "text/plain": [
       "50"
      ]
     },
     "execution_count": 102,
     "metadata": {},
     "output_type": "execute_result"
    }
   ],
   "source": [
    "c.Sub()"
   ]
  },
  {
   "cell_type": "code",
   "execution_count": 103,
   "metadata": {},
   "outputs": [
    {
     "data": {
      "text/plain": [
       "5000"
      ]
     },
     "execution_count": 103,
     "metadata": {},
     "output_type": "execute_result"
    }
   ],
   "source": [
    "c.Mul()"
   ]
  },
  {
   "cell_type": "code",
   "execution_count": 104,
   "metadata": {},
   "outputs": [],
   "source": [
    "import Calci"
   ]
  },
  {
   "cell_type": "code",
   "execution_count": 105,
   "metadata": {},
   "outputs": [],
   "source": [
    "c2=Calci.Calculate(34,35)"
   ]
  },
  {
   "cell_type": "code",
   "execution_count": 106,
   "metadata": {},
   "outputs": [
    {
     "data": {
      "text/plain": [
       "69"
      ]
     },
     "execution_count": 106,
     "metadata": {},
     "output_type": "execute_result"
    }
   ],
   "source": [
    "c2.Add()"
   ]
  },
  {
   "cell_type": "code",
   "execution_count": 107,
   "metadata": {},
   "outputs": [],
   "source": [
    "import Calci as cc"
   ]
  },
  {
   "cell_type": "code",
   "execution_count": null,
   "metadata": {},
   "outputs": [],
   "source": [
    "cc.Calculate()"
   ]
  },
  {
   "cell_type": "code",
   "execution_count": null,
   "metadata": {},
   "outputs": [],
   "source": [
    "#Principles of OOP\n",
    "\n",
    "#abstraction : hiding the background details \n",
    "\n",
    "\n",
    "#encaspsulation : binding of variables and functions into a single unit \n",
    "\n",
    "#inheritence : the properties of one class is inherited by the properties of another class \n",
    "\n",
    "\n",
    "\n",
    "#overriding : \n",
    "\n",
    "\n",
    "#polymorphism"
   ]
  },
  {
   "cell_type": "code",
   "execution_count": null,
   "metadata": {},
   "outputs": [],
   "source": [
    "#single \n",
    "\n",
    "#multiple\n",
    "\n",
    "#multi level \n",
    "\n",
    "\n",
    "base class\n",
    "super class \n",
    "parent class \n",
    "\n",
    "\n",
    "derived class \n",
    "sub class \n",
    "child class \n",
    "\n",
    "\n"
   ]
  },
  {
   "cell_type": "code",
   "execution_count": 109,
   "metadata": {},
   "outputs": [],
   "source": [
    "#single \n",
    "\n",
    "class A():\n",
    "    \n",
    "    def PrintA(self):\n",
    "        print (\"I am in class A \")\n",
    "    \n",
    "\n",
    "class B():\n",
    "    \n",
    "    def PrintB(self):\n",
    "        print (\"I am in class B \")\n",
    "        "
   ]
  },
  {
   "cell_type": "code",
   "execution_count": 110,
   "metadata": {},
   "outputs": [
    {
     "name": "stdout",
     "output_type": "stream",
     "text": [
      "I am in class A \n"
     ]
    }
   ],
   "source": [
    "a=A()\n",
    "a.PrintA()"
   ]
  },
  {
   "cell_type": "code",
   "execution_count": 111,
   "metadata": {},
   "outputs": [
    {
     "name": "stdout",
     "output_type": "stream",
     "text": [
      "I am in class B \n"
     ]
    }
   ],
   "source": [
    "b=B()\n",
    "b.PrintB()"
   ]
  },
  {
   "cell_type": "code",
   "execution_count": null,
   "metadata": {},
   "outputs": [],
   "source": [
    "# What if I want class B to inherit properties of class A \n",
    "\n",
    "#Class A \n",
    "\n",
    "base class\n",
    "super class \n",
    "parent class \n",
    "\n",
    "\n",
    "#Class B \n",
    "\n",
    "derived class \n",
    "sub class \n",
    "child class \n",
    "\n",
    "\n"
   ]
  },
  {
   "cell_type": "code",
   "execution_count": 112,
   "metadata": {},
   "outputs": [],
   "source": [
    "\n",
    "class A():\n",
    "    \n",
    "    def PrintA(self):\n",
    "        print (\"I am in class A \")\n",
    "    \n",
    "\n",
    "class B(A):\n",
    "    \n",
    "    def PrintB(self):\n",
    "        print (\"I am in class B \")\n",
    "        "
   ]
  },
  {
   "cell_type": "code",
   "execution_count": 113,
   "metadata": {},
   "outputs": [],
   "source": [
    "b=B()"
   ]
  },
  {
   "cell_type": "code",
   "execution_count": 114,
   "metadata": {},
   "outputs": [
    {
     "name": "stdout",
     "output_type": "stream",
     "text": [
      "I am in class A \n"
     ]
    }
   ],
   "source": [
    "b.PrintA()"
   ]
  },
  {
   "cell_type": "code",
   "execution_count": 115,
   "metadata": {},
   "outputs": [
    {
     "name": "stdout",
     "output_type": "stream",
     "text": [
      "I am in class B \n"
     ]
    }
   ],
   "source": [
    "b.PrintB()"
   ]
  },
  {
   "cell_type": "code",
   "execution_count": 124,
   "metadata": {},
   "outputs": [],
   "source": [
    "# multiple \n",
    "\n",
    "\n",
    "class A():\n",
    "    \n",
    "    \n",
    "    def Print(self):\n",
    "        print (\"I am in class A \")\n",
    "    \n",
    "\n",
    "class B():\n",
    "    \n",
    "    def Print(self):\n",
    "        print (\"I am in class B \")\n",
    "        \n",
    "        \n",
    "class C(B,A):\n",
    "    \n",
    "    def PrintC(self):\n",
    "        print (\"I am in class C \")\n",
    "        "
   ]
  },
  {
   "cell_type": "code",
   "execution_count": 125,
   "metadata": {},
   "outputs": [],
   "source": [
    "c=C()"
   ]
  },
  {
   "cell_type": "code",
   "execution_count": 118,
   "metadata": {},
   "outputs": [
    {
     "name": "stdout",
     "output_type": "stream",
     "text": [
      "I am in class A \n"
     ]
    }
   ],
   "source": [
    "c.PrintA()"
   ]
  },
  {
   "cell_type": "code",
   "execution_count": 119,
   "metadata": {},
   "outputs": [
    {
     "name": "stdout",
     "output_type": "stream",
     "text": [
      "I am in class B \n"
     ]
    }
   ],
   "source": [
    "c.PrintB()"
   ]
  },
  {
   "cell_type": "code",
   "execution_count": 120,
   "metadata": {},
   "outputs": [
    {
     "name": "stdout",
     "output_type": "stream",
     "text": [
      "I am in class C \n"
     ]
    }
   ],
   "source": [
    "c.PrintC()"
   ]
  },
  {
   "cell_type": "code",
   "execution_count": 126,
   "metadata": {},
   "outputs": [
    {
     "name": "stdout",
     "output_type": "stream",
     "text": [
      "I am in class B \n"
     ]
    }
   ],
   "source": [
    "c.Print()"
   ]
  },
  {
   "cell_type": "code",
   "execution_count": null,
   "metadata": {},
   "outputs": [],
   "source": []
  },
  {
   "cell_type": "code",
   "execution_count": 143,
   "metadata": {},
   "outputs": [],
   "source": [
    "# constructors \n",
    "\n",
    "\n",
    "class A():\n",
    "    \n",
    "    def __init__(self,a):\n",
    "        self.a=a\n",
    "        \n",
    "    def __PrintA(self):\n",
    "        print (\"I am in class A ,value of a= \",self.a)\n",
    "    \n",
    "class C():\n",
    "    \n",
    "    def __init__(self,c):\n",
    "        self.c=c\n",
    "        \n",
    "    def PrintC(self):\n",
    "        print (\"I am in class C ,value of c= \",self.c)\n",
    "    \n",
    "    \n",
    "class B(A,C):\n",
    "    \n",
    "    def __init__(self,b,a,c):\n",
    "        self.b=b\n",
    "        A.__init__(self,a)\n",
    "        C.__init__(self,c)\n",
    "        \n",
    "        \n",
    "    def PrintB(self):\n",
    "        print (\"I am in class B ,value of b= \",self.b)\n",
    "        \n"
   ]
  },
  {
   "cell_type": "code",
   "execution_count": 144,
   "metadata": {},
   "outputs": [],
   "source": [
    "b=B(100,200,300)"
   ]
  },
  {
   "cell_type": "code",
   "execution_count": 145,
   "metadata": {},
   "outputs": [
    {
     "name": "stdout",
     "output_type": "stream",
     "text": [
      "I am in class B ,value of b=  100\n"
     ]
    }
   ],
   "source": [
    "b.PrintB()"
   ]
  },
  {
   "cell_type": "code",
   "execution_count": 146,
   "metadata": {},
   "outputs": [
    {
     "name": "stdout",
     "output_type": "stream",
     "text": [
      "I am in class A ,value of a=  200\n"
     ]
    }
   ],
   "source": [
    "b.PrintA()"
   ]
  },
  {
   "cell_type": "code",
   "execution_count": 147,
   "metadata": {},
   "outputs": [
    {
     "name": "stdout",
     "output_type": "stream",
     "text": [
      "I am in class C ,value of c=  300\n"
     ]
    }
   ],
   "source": [
    "b.PrintC()"
   ]
  },
  {
   "cell_type": "code",
   "execution_count": 149,
   "metadata": {},
   "outputs": [],
   "source": [
    "# multilevel  \n",
    "\n",
    "\n",
    "class A():\n",
    "    \n",
    "    def PrintA(self):\n",
    "        print (\"I am in class A \")\n",
    "    \n",
    "\n",
    "class B(A):\n",
    "    \n",
    "    def PrintB(self):\n",
    "        print (\"I am in class B \")\n",
    "        \n",
    "        \n",
    "class C(B):\n",
    "    \n",
    "    def PrintC(self):\n",
    "        print (\"I am in class C \")\n",
    "        "
   ]
  },
  {
   "cell_type": "code",
   "execution_count": 150,
   "metadata": {},
   "outputs": [],
   "source": [
    "c=C()"
   ]
  },
  {
   "cell_type": "code",
   "execution_count": 151,
   "metadata": {},
   "outputs": [
    {
     "name": "stdout",
     "output_type": "stream",
     "text": [
      "I am in class A \n"
     ]
    }
   ],
   "source": [
    "c.PrintA()"
   ]
  },
  {
   "cell_type": "code",
   "execution_count": 152,
   "metadata": {},
   "outputs": [
    {
     "name": "stdout",
     "output_type": "stream",
     "text": [
      "I am in class B \n"
     ]
    }
   ],
   "source": [
    "c.PrintB()"
   ]
  },
  {
   "cell_type": "code",
   "execution_count": 153,
   "metadata": {},
   "outputs": [
    {
     "name": "stdout",
     "output_type": "stream",
     "text": [
      "I am in class C \n"
     ]
    }
   ],
   "source": [
    "c.PrintC()"
   ]
  },
  {
   "cell_type": "code",
   "execution_count": 164,
   "metadata": {},
   "outputs": [],
   "source": [
    "#Overriding \n",
    "\n",
    "\n",
    "class IOS10():\n",
    "    \n",
    "    def TaskA(self):\n",
    "        print (\"I use method 1 to perform this task.\")\n",
    "        \n",
    "class IOS11(IOS10):\n",
    "    \n",
    "    def TaskA(self):\n",
    "        print (\"I use method 2 to perform this task.\")\n",
    "        \n"
   ]
  },
  {
   "cell_type": "code",
   "execution_count": 165,
   "metadata": {},
   "outputs": [],
   "source": [
    "i10=IOS10()"
   ]
  },
  {
   "cell_type": "code",
   "execution_count": 166,
   "metadata": {},
   "outputs": [
    {
     "name": "stdout",
     "output_type": "stream",
     "text": [
      "I use method 1 to perform this task.\n"
     ]
    }
   ],
   "source": [
    "i10.TaskA()"
   ]
  },
  {
   "cell_type": "code",
   "execution_count": 167,
   "metadata": {},
   "outputs": [],
   "source": [
    "i11=IOS11()"
   ]
  },
  {
   "cell_type": "code",
   "execution_count": 168,
   "metadata": {},
   "outputs": [
    {
     "name": "stdout",
     "output_type": "stream",
     "text": [
      "I use method 2 to perform this task.\n"
     ]
    }
   ],
   "source": [
    "i11.TaskA()"
   ]
  },
  {
   "cell_type": "code",
   "execution_count": 169,
   "metadata": {},
   "outputs": [],
   "source": [
    "#Polymorphism  :one thing available in many forms \n",
    "\n",
    "class Animal():\n",
    "    \n",
    "    def Legs(self):\n",
    "        pass\n",
    "    \n",
    "    def Talk(self):\n",
    "        pass\n",
    "    \n",
    "    def Height(self):\n",
    "        pass\n",
    "    \n",
    "    def Color(self):\n",
    "        pass\n",
    "    \n",
    "    \n"
   ]
  },
  {
   "cell_type": "code",
   "execution_count": 170,
   "metadata": {},
   "outputs": [],
   "source": [
    "class Dog(Animal):\n",
    "    \n",
    "    def Talk(self):\n",
    "        print (\"Whine/Bark\")\n",
    "\n",
    "        \n",
    "class Cat(Animal):\n",
    "    \n",
    "    def Talk(self):\n",
    "        print (\"Mews\")\n",
    "\n",
    "class Lion(Animal):\n",
    "    def Talk(self):\n",
    "        print (\"Roars\")"
   ]
  },
  {
   "cell_type": "code",
   "execution_count": 171,
   "metadata": {},
   "outputs": [
    {
     "name": "stdout",
     "output_type": "stream",
     "text": [
      "Whine/Bark\n"
     ]
    }
   ],
   "source": [
    "d=Dog()\n",
    "d.Talk()"
   ]
  },
  {
   "cell_type": "code",
   "execution_count": 172,
   "metadata": {},
   "outputs": [
    {
     "name": "stdout",
     "output_type": "stream",
     "text": [
      "Mews\n"
     ]
    }
   ],
   "source": [
    "c=Cat()\n",
    "c.Talk()"
   ]
  },
  {
   "cell_type": "code",
   "execution_count": 173,
   "metadata": {},
   "outputs": [
    {
     "name": "stdout",
     "output_type": "stream",
     "text": [
      "Roars\n"
     ]
    }
   ],
   "source": [
    "l=Lion()\n",
    "l.Talk()"
   ]
  },
  {
   "cell_type": "code",
   "execution_count": null,
   "metadata": {},
   "outputs": [],
   "source": [
    "#Access specifiers \n",
    "\n",
    "    @public\n",
    "    \n",
    "    @private  __\n",
    "    \n",
    "    @protected  _\n",
    "    \n",
    "    \n",
    "    "
   ]
  },
  {
   "cell_type": "code",
   "execution_count": 189,
   "metadata": {},
   "outputs": [],
   "source": [
    "class Flower():\n",
    "    \n",
    "    #Constructor \n",
    "    def __init__(self,n,c,q):\n",
    "        self.name=n  #public \n",
    "        self._color=c  #protected \n",
    "        self.__quan=q  #private \n",
    "        \n",
    "    \n",
    "    def PrintName(self): #public \n",
    "        print (\"The name of the flower is :\",self.name)\n",
    "        \n",
    "    def _PrintColor(self):  #protected\n",
    "        print (\"The color of the flower is :\",self._color)\n",
    "        \n",
    "    def __PrintQuantity(self): #Private \n",
    "        print (\"The quantity of the flowers required :\",self.__quan)\n",
    "\n",
    "\n",
    "    def PrintDetails(self):  #public \n",
    "        self.PrintName()\n",
    "        self._PrintColor()\n",
    "        self.__PrintQuantity()\n",
    "        \n",
    "        "
   ]
  },
  {
   "cell_type": "code",
   "execution_count": 181,
   "metadata": {},
   "outputs": [],
   "source": [
    "f=Flower(\"Rose\",\"white\",100)"
   ]
  },
  {
   "cell_type": "code",
   "execution_count": 182,
   "metadata": {},
   "outputs": [
    {
     "name": "stdout",
     "output_type": "stream",
     "text": [
      "The name of the flower is : Rose\n"
     ]
    }
   ],
   "source": [
    "f.PrintName()"
   ]
  },
  {
   "cell_type": "code",
   "execution_count": 184,
   "metadata": {},
   "outputs": [
    {
     "name": "stdout",
     "output_type": "stream",
     "text": [
      "The color of the flower is : white\n"
     ]
    }
   ],
   "source": [
    "f._PrintColor()"
   ]
  },
  {
   "cell_type": "code",
   "execution_count": 185,
   "metadata": {},
   "outputs": [
    {
     "data": {
      "text/plain": [
       "'Rose'"
      ]
     },
     "execution_count": 185,
     "metadata": {},
     "output_type": "execute_result"
    }
   ],
   "source": [
    "f.name"
   ]
  },
  {
   "cell_type": "code",
   "execution_count": 186,
   "metadata": {},
   "outputs": [
    {
     "data": {
      "text/plain": [
       "'white'"
      ]
     },
     "execution_count": 186,
     "metadata": {},
     "output_type": "execute_result"
    }
   ],
   "source": [
    "f._color"
   ]
  },
  {
   "cell_type": "code",
   "execution_count": 187,
   "metadata": {},
   "outputs": [
    {
     "ename": "AttributeError",
     "evalue": "'Flower' object has no attribute '__quan'",
     "output_type": "error",
     "traceback": [
      "\u001b[0;31m---------------------------------------------------------------------------\u001b[0m",
      "\u001b[0;31mAttributeError\u001b[0m                            Traceback (most recent call last)",
      "\u001b[0;32m<ipython-input-187-5cf30bbcc56a>\u001b[0m in \u001b[0;36m<module>\u001b[0;34m\u001b[0m\n\u001b[0;32m----> 1\u001b[0;31m \u001b[0mf\u001b[0m\u001b[0;34m.\u001b[0m\u001b[0m__quan\u001b[0m\u001b[0;34m\u001b[0m\u001b[0;34m\u001b[0m\u001b[0m\n\u001b[0m",
      "\u001b[0;31mAttributeError\u001b[0m: 'Flower' object has no attribute '__quan'"
     ]
    }
   ],
   "source": [
    "f.__quan"
   ]
  },
  {
   "cell_type": "code",
   "execution_count": 188,
   "metadata": {},
   "outputs": [
    {
     "ename": "AttributeError",
     "evalue": "'Flower' object has no attribute '__PrintQuantity'",
     "output_type": "error",
     "traceback": [
      "\u001b[0;31m---------------------------------------------------------------------------\u001b[0m",
      "\u001b[0;31mAttributeError\u001b[0m                            Traceback (most recent call last)",
      "\u001b[0;32m<ipython-input-188-39374ba5afa0>\u001b[0m in \u001b[0;36m<module>\u001b[0;34m\u001b[0m\n\u001b[0;32m----> 1\u001b[0;31m \u001b[0mf\u001b[0m\u001b[0;34m.\u001b[0m\u001b[0m__PrintQuantity\u001b[0m\u001b[0;34m(\u001b[0m\u001b[0;34m)\u001b[0m\u001b[0;34m\u001b[0m\u001b[0;34m\u001b[0m\u001b[0m\n\u001b[0m",
      "\u001b[0;31mAttributeError\u001b[0m: 'Flower' object has no attribute '__PrintQuantity'"
     ]
    }
   ],
   "source": [
    "f.__PrintQuantity()"
   ]
  },
  {
   "cell_type": "code",
   "execution_count": 192,
   "metadata": {},
   "outputs": [
    {
     "name": "stdout",
     "output_type": "stream",
     "text": [
      "The quantity of the flowers required : 100\n"
     ]
    }
   ],
   "source": [
    "f._Flower__PrintQuantity()"
   ]
  },
  {
   "cell_type": "code",
   "execution_count": 193,
   "metadata": {},
   "outputs": [
    {
     "data": {
      "text/plain": [
       "100"
      ]
     },
     "execution_count": 193,
     "metadata": {},
     "output_type": "execute_result"
    }
   ],
   "source": [
    "f._Flower__quan\n"
   ]
  },
  {
   "cell_type": "code",
   "execution_count": 190,
   "metadata": {},
   "outputs": [
    {
     "name": "stdout",
     "output_type": "stream",
     "text": [
      "The name of the flower is : Rose\n",
      "The color of the flower is : white\n",
      "The quantity of the flowers required : 100\n"
     ]
    }
   ],
   "source": [
    "f.PrintDetails()"
   ]
  },
  {
   "cell_type": "raw",
   "metadata": {},
   "source": [
    "                same class        object         subclasses of same module      subclass of different module \n",
    "\n",
    "\n",
    "public            True            True                    True                          True\n",
    "\n",
    "\n",
    "protected         True            True                    True                         False\n",
    "\n",
    "\n",
    "private           True            False                   False                        False"
   ]
  },
  {
   "cell_type": "code",
   "execution_count": null,
   "metadata": {},
   "outputs": [],
   "source": [
    "MVC \n",
    "N-Tier Architecture \n",
    "\n",
    "Design Patterns \n",
    "\n"
   ]
  },
  {
   "cell_type": "code",
   "execution_count": null,
   "metadata": {},
   "outputs": [],
   "source": [
    "# Exception handling \n",
    "\n",
    "# Predefined modules , system libraries \n",
    "os \n",
    "sys \n",
    "random\n",
    "datetime \n",
    "time\n",
    "json\n",
    "math \n",
    "\n",
    "#Regex Regular Expression \n",
    "\n",
    "#Screenshot application \n"
   ]
  },
  {
   "cell_type": "code",
   "execution_count": null,
   "metadata": {},
   "outputs": [],
   "source": []
  },
  {
   "cell_type": "code",
   "execution_count": 195,
   "metadata": {},
   "outputs": [
    {
     "name": "stdout",
     "output_type": "stream",
     "text": [
      "0.5\n"
     ]
    }
   ],
   "source": [
    "# Exception handling \n",
    "\n",
    "a=10\n",
    "b=20\n",
    "\n",
    "print (a/b)"
   ]
  },
  {
   "cell_type": "code",
   "execution_count": 198,
   "metadata": {},
   "outputs": [
    {
     "name": "stdout",
     "output_type": "stream",
     "text": [
      "Enter a number 10\n",
      "Enter another number 0\n"
     ]
    },
    {
     "ename": "ZeroDivisionError",
     "evalue": "division by zero",
     "output_type": "error",
     "traceback": [
      "\u001b[0;31m---------------------------------------------------------------------------\u001b[0m",
      "\u001b[0;31mZeroDivisionError\u001b[0m                         Traceback (most recent call last)",
      "\u001b[0;32m<ipython-input-198-ac459b2ee439>\u001b[0m in \u001b[0;36m<module>\u001b[0;34m\u001b[0m\n\u001b[1;32m      2\u001b[0m \u001b[0mb\u001b[0m\u001b[0;34m=\u001b[0m\u001b[0mint\u001b[0m\u001b[0;34m(\u001b[0m\u001b[0minput\u001b[0m\u001b[0;34m(\u001b[0m\u001b[0;34m\"Enter another number \"\u001b[0m\u001b[0;34m)\u001b[0m\u001b[0;34m)\u001b[0m\u001b[0;34m\u001b[0m\u001b[0;34m\u001b[0m\u001b[0m\n\u001b[1;32m      3\u001b[0m \u001b[0;34m\u001b[0m\u001b[0m\n\u001b[0;32m----> 4\u001b[0;31m \u001b[0mprint\u001b[0m \u001b[0;34m(\u001b[0m\u001b[0ma\u001b[0m\u001b[0;34m/\u001b[0m\u001b[0mb\u001b[0m\u001b[0;34m)\u001b[0m\u001b[0;34m\u001b[0m\u001b[0;34m\u001b[0m\u001b[0m\n\u001b[0m\u001b[1;32m      5\u001b[0m \u001b[0;34m\u001b[0m\u001b[0m\n\u001b[1;32m      6\u001b[0m \u001b[0mprint\u001b[0m \u001b[0;34m(\u001b[0m\u001b[0;34m\"Some other code\"\u001b[0m\u001b[0;34m)\u001b[0m\u001b[0;34m\u001b[0m\u001b[0;34m\u001b[0m\u001b[0m\n",
      "\u001b[0;31mZeroDivisionError\u001b[0m: division by zero"
     ]
    }
   ],
   "source": [
    "a=int(input(\"Enter a number \"))\n",
    "b=int(input(\"Enter another number \"))\n",
    "\n",
    "print (a/b)\n",
    "\n",
    "print (\"Some other code\")"
   ]
  },
  {
   "cell_type": "code",
   "execution_count": 203,
   "metadata": {},
   "outputs": [
    {
     "name": "stdout",
     "output_type": "stream",
     "text": [
      "Enter a number yash\n"
     ]
    },
    {
     "ename": "ValueError",
     "evalue": "invalid literal for int() with base 10: 'yash'",
     "output_type": "error",
     "traceback": [
      "\u001b[0;31m---------------------------------------------------------------------------\u001b[0m",
      "\u001b[0;31mValueError\u001b[0m                                Traceback (most recent call last)",
      "\u001b[0;32m<ipython-input-203-c34c7e557227>\u001b[0m in \u001b[0;36m<module>\u001b[0;34m\u001b[0m\n\u001b[0;32m----> 1\u001b[0;31m \u001b[0ma\u001b[0m\u001b[0;34m=\u001b[0m\u001b[0mint\u001b[0m\u001b[0;34m(\u001b[0m\u001b[0minput\u001b[0m\u001b[0;34m(\u001b[0m\u001b[0;34m\"Enter a number \"\u001b[0m\u001b[0;34m)\u001b[0m\u001b[0;34m)\u001b[0m\u001b[0;34m\u001b[0m\u001b[0;34m\u001b[0m\u001b[0m\n\u001b[0m\u001b[1;32m      2\u001b[0m \u001b[0mb\u001b[0m\u001b[0;34m=\u001b[0m\u001b[0mint\u001b[0m\u001b[0;34m(\u001b[0m\u001b[0minput\u001b[0m\u001b[0;34m(\u001b[0m\u001b[0;34m\"Enter another number \"\u001b[0m\u001b[0;34m)\u001b[0m\u001b[0;34m)\u001b[0m\u001b[0;34m\u001b[0m\u001b[0;34m\u001b[0m\u001b[0m\n\u001b[1;32m      3\u001b[0m \u001b[0;34m\u001b[0m\u001b[0m\n\u001b[1;32m      4\u001b[0m \u001b[0;32mtry\u001b[0m\u001b[0;34m:\u001b[0m\u001b[0;34m\u001b[0m\u001b[0;34m\u001b[0m\u001b[0m\n\u001b[1;32m      5\u001b[0m \u001b[0;34m\u001b[0m\u001b[0m\n",
      "\u001b[0;31mValueError\u001b[0m: invalid literal for int() with base 10: 'yash'"
     ]
    }
   ],
   "source": [
    "a=int(input(\"Enter a number \"))\n",
    "b=int(input(\"Enter another number \"))\n",
    "\n",
    "try:\n",
    "    \n",
    "    c=a/b\n",
    "\n",
    "except:\n",
    "    print (\"Dividing by zero \")\n",
    "    \n",
    "else:\n",
    "    \n",
    "    print (c)\n",
    "\n",
    "print (\"Some other code\")"
   ]
  },
  {
   "cell_type": "code",
   "execution_count": 210,
   "metadata": {},
   "outputs": [
    {
     "name": "stdout",
     "output_type": "stream",
     "text": [
      "Enter a number 17\n",
      "Enter another number r\n",
      "Something wrong with input , please input again..\n"
     ]
    }
   ],
   "source": [
    "\n",
    "try:\n",
    "    a=int(input(\"Enter a number \"))\n",
    "    b=int(input(\"Enter another number \"))\n",
    "    \n",
    "    c=a/b\n",
    "\n",
    "except ZeroDivisionError:\n",
    "    print (\"divding by zero ....\")\n",
    "\n",
    "except ValueError:\n",
    "    print (\"Something wrong with input , please input again..\")\n",
    "    \n",
    "else:\n",
    "    \n",
    "    print (c)\n",
    "\n"
   ]
  },
  {
   "cell_type": "code",
   "execution_count": null,
   "metadata": {},
   "outputs": [],
   "source": [
    "#https://airbrake.io/blog/python-exception-handling/class-hierarchy . "
   ]
  },
  {
   "cell_type": "code",
   "execution_count": null,
   "metadata": {},
   "outputs": [],
   "source": [
    "\n",
    "try:\n",
    "    a=int(input(\"Enter a number \"))\n",
    "    b=int(input(\"Enter another number \"))\n",
    "    \n",
    "    c=a/b\n",
    "\n",
    "except ZeroDivisionError:\n",
    "    print (\"divding by zero ....\")\n",
    "\n",
    "except ValueError:\n",
    "    print (\"Something wrong with input , please input again..\")\n",
    "    \n",
    "else:\n",
    "    \n",
    "    print (c)\n",
    "\n"
   ]
  },
  {
   "cell_type": "code",
   "execution_count": 211,
   "metadata": {},
   "outputs": [],
   "source": [
    "import sys"
   ]
  },
  {
   "cell_type": "code",
   "execution_count": 7,
   "metadata": {},
   "outputs": [
    {
     "name": "stdout",
     "output_type": "stream",
     "text": [
      "Enter a number 0\n",
      "Enter another number 0\n",
      "Do not divide by zero \n",
      "This is always going to run 0 0 0.35294117647058826\n"
     ]
    }
   ],
   "source": [
    "\n",
    "try:\n",
    "    a=int(input(\"Enter a number \"))\n",
    "    b=int(input(\"Enter another number \"))\n",
    "    c=a/b\n",
    "    \n",
    "except ZeroDivisionError:\n",
    "    print (\"Do not divide by zero \")\n",
    "except  :\n",
    "    print (sys.exc_info()[:2])\n",
    "else:\n",
    "    print (c)\n",
    "\n",
    "print (\"This is always going to run\",a,b,c)\n"
   ]
  },
  {
   "cell_type": "code",
   "execution_count": 3,
   "metadata": {},
   "outputs": [],
   "source": [
    "#User defined exceptions \n"
   ]
  },
  {
   "cell_type": "code",
   "execution_count": null,
   "metadata": {},
   "outputs": [],
   "source": [
    "del a"
   ]
  },
  {
   "cell_type": "code",
   "execution_count": 227,
   "metadata": {},
   "outputs": [],
   "source": [
    "del b"
   ]
  },
  {
   "cell_type": "code",
   "execution_count": 229,
   "metadata": {},
   "outputs": [],
   "source": [
    "del f"
   ]
  },
  {
   "cell_type": "code",
   "execution_count": null,
   "metadata": {},
   "outputs": [],
   "source": []
  }
 ],
 "metadata": {
  "kernelspec": {
   "display_name": "Python 3",
   "language": "python",
   "name": "python3"
  },
  "language_info": {
   "codemirror_mode": {
    "name": "ipython",
    "version": 3
   },
   "file_extension": ".py",
   "mimetype": "text/x-python",
   "name": "python",
   "nbconvert_exporter": "python",
   "pygments_lexer": "ipython3",
   "version": "3.8.5"
  }
 },
 "nbformat": 4,
 "nbformat_minor": 2
}
