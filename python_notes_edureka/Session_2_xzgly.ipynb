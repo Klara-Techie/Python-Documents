{
 "cells": [
  {
   "cell_type": "markdown",
   "metadata": {},
   "source": [
    "# Session 2"
   ]
  },
  {
   "cell_type": "code",
   "execution_count": 1,
   "metadata": {},
   "outputs": [],
   "source": [
    "#WAP to input two numbers from a user and print their sum "
   ]
  },
  {
   "cell_type": "code",
   "execution_count": 5,
   "metadata": {},
   "outputs": [
    {
     "name": "stdout",
     "output_type": "stream",
     "text": [
      "Enter 1st number : 45\n",
      "Enter 2nd number : 56\n"
     ]
    }
   ],
   "source": [
    "a=int(input(\"Enter 1st number : \"))\n",
    "b=int(input(\"Enter 2nd number : \"))\n",
    "\n",
    "#typecasting "
   ]
  },
  {
   "cell_type": "code",
   "execution_count": 6,
   "metadata": {},
   "outputs": [
    {
     "name": "stdout",
     "output_type": "stream",
     "text": [
      "101\n"
     ]
    }
   ],
   "source": [
    "print(a+b)"
   ]
  },
  {
   "cell_type": "code",
   "execution_count": 8,
   "metadata": {},
   "outputs": [
    {
     "name": "stdout",
     "output_type": "stream",
     "text": [
      "enter a number456\n"
     ]
    }
   ],
   "source": [
    "n=input(\"enter a number\")"
   ]
  },
  {
   "cell_type": "code",
   "execution_count": 10,
   "metadata": {},
   "outputs": [
    {
     "data": {
      "text/plain": [
       "456"
      ]
     },
     "execution_count": 10,
     "metadata": {},
     "output_type": "execute_result"
    }
   ],
   "source": [
    "int(n)"
   ]
  },
  {
   "cell_type": "code",
   "execution_count": null,
   "metadata": {},
   "outputs": [],
   "source": [
    "#Statements \n",
    "\n",
    "    # Conditional \n",
    "            #if \n",
    "            #if else\n",
    "            # if - elif (s) \n",
    "            #if - elif (s) else\n",
    "    \n",
    "    #Iterative/looping\n",
    "    \n",
    "        # for \n",
    "        \n",
    "        #while\n",
    "        \n",
    "        \n",
    "    \n",
    "    \n",
    "    #Jump statements \n",
    "    \n",
    "        # break\n",
    "        #continue\n",
    "        #return \n",
    "        #pass\n",
    "        \n",
    "        \n",
    "        \n",
    "#no switch case \n",
    "\n",
    "#do while loop \n"
   ]
  },
  {
   "cell_type": "code",
   "execution_count": null,
   "metadata": {},
   "outputs": [],
   "source": [
    "#If \n",
    "\n",
    "#WAP to input age of a person , if he/she is above  or equal 18 then say \"Eligible to vote\"\n",
    "\n"
   ]
  },
  {
   "cell_type": "code",
   "execution_count": 15,
   "metadata": {},
   "outputs": [
    {
     "name": "stdout",
     "output_type": "stream",
     "text": [
      "enter the age :9\n"
     ]
    }
   ],
   "source": [
    "if a>=18:\n",
    "    print (\"Eligible to vote \")"
   ]
  },
  {
   "cell_type": "code",
   "execution_count": null,
   "metadata": {},
   "outputs": [],
   "source": [
    "#Other lang \n",
    "\n",
    "if a>=18\n",
    "{\n",
    "     print (\"Eligible to vote \")\n",
    "    \n",
    "}\n",
    "   "
   ]
  },
  {
   "cell_type": "code",
   "execution_count": 17,
   "metadata": {},
   "outputs": [
    {
     "name": "stdout",
     "output_type": "stream",
     "text": [
      "enter the age :32\n",
      "Eligible to vote \n",
      "Successful\n"
     ]
    }
   ],
   "source": [
    "#In python \n",
    "\n",
    "a=int(input(\"enter the age :\"))\n",
    "\n",
    "\n",
    "\n",
    "if a>=18:\n",
    "    print (\"Eligible to vote \")\n",
    "    print (\"Successful\")\n",
    "    "
   ]
  },
  {
   "cell_type": "code",
   "execution_count": null,
   "metadata": {},
   "outputs": [],
   "source": [
    "#WAP to input age of a person , if he/she is above  or equal 18 then say \"Eligible to vote\"\n",
    "#else print \"Not eligible to vote \"\n"
   ]
  },
  {
   "cell_type": "code",
   "execution_count": 20,
   "metadata": {},
   "outputs": [
    {
     "name": "stdout",
     "output_type": "stream",
     "text": [
      "enter the age :45\n",
      "Eligible to vote \n",
      "Successful\n"
     ]
    }
   ],
   "source": [
    "\n",
    "a=int(input(\"enter the age :\"))\n",
    "\n",
    "if a>=18:\n",
    "    print (\"Eligible to vote \")\n",
    "    print (\"Successful\")\n",
    "\n",
    "else:\n",
    "    print (\"Not eligible to vote \")\n",
    "\n",
    "\n",
    "    "
   ]
  },
  {
   "cell_type": "code",
   "execution_count": 26,
   "metadata": {},
   "outputs": [
    {
     "name": "stdout",
     "output_type": "stream",
     "text": [
      "Enter a number:  43212\n",
      "43212 is Even\n"
     ]
    }
   ],
   "source": [
    "#WAP to input a numb from user and print whether it is Even or Odd\n",
    "\n",
    "num=int(input(\"Enter a number:  \"))\n",
    "if num%2==0:\n",
    "    print (num,\"is Even\")\n",
    "else:\n",
    "    print (num,\"is Odd\")"
   ]
  },
  {
   "cell_type": "code",
   "execution_count": 29,
   "metadata": {},
   "outputs": [],
   "source": [
    "# WAP to input a code from user and do the following \n",
    "    #Y --> \"Yellow\"\n",
    "    #G --> \"Green\"\n",
    "    #B --> \"Black\"\n",
    "#else : print --> \"Wrong choice entered \""
   ]
  },
  {
   "cell_type": "code",
   "execution_count": 31,
   "metadata": {},
   "outputs": [
    {
     "name": "stdout",
     "output_type": "stream",
     "text": [
      "Enter a code: Y\n"
     ]
    }
   ],
   "source": [
    "#input from user \n",
    "\n"
   ]
  },
  {
   "cell_type": "code",
   "execution_count": 48,
   "metadata": {},
   "outputs": [
    {
     "name": "stdout",
     "output_type": "stream",
     "text": [
      "Enter a code: y\n",
      "Yellow \n"
     ]
    }
   ],
   "source": [
    "choice=input (\"Enter a code: \")\n",
    "\n",
    "if choice==\"Y\" or choice==\"y\":\n",
    "    print (\"Yellow \")\n",
    "    \n",
    "elif choice==\"G\" or choice==\"g\":\n",
    "    print (\"Green\")\n",
    "    \n",
    "    \n",
    "elif choice==\"B\" or choice==\"b\":\n",
    "    print (\"Black\")\n",
    "    \n",
    "else:\n",
    "    print (\"Wrong choice entered \")"
   ]
  },
  {
   "cell_type": "code",
   "execution_count": null,
   "metadata": {},
   "outputs": [],
   "source": [
    "#Divisiblity test\n",
    "\n",
    "#WAP to input a num. user \n",
    "\n",
    "#Check whether is divisible by both 2 and 5 , or only 2 or niether by 2 nor 5 if not divisible ≠"
   ]
  },
  {
   "cell_type": "code",
   "execution_count": null,
   "metadata": {},
   "outputs": [],
   "source": [
    "10 \n",
    "≠\n",
    "\n",
    "15\n",
    "\n",
    "§\n",
    "4\n",
    "\n",
    "13 ni"
   ]
  },
  {
   "cell_type": "code",
   "execution_count": 52,
   "metadata": {},
   "outputs": [
    {
     "name": "stdout",
     "output_type": "stream",
     "text": [
      "Enter a number:  13\n",
      "13 is niether divisble by 2 nor 5 \n"
     ]
    }
   ],
   "source": [
    "num=int(input(\"Enter a number:  \"))\n",
    "if num%2==0 and num%5==0:\n",
    "    print (num,\"is divisible by both 2 and 5 \")\n",
    "elif num%2==0  : \n",
    "    print (num,\"is divisible by 2 only \")\n",
    "elif  num%5==0 :\n",
    "    print (num,\"is divisible by 5 only\")\n",
    "else:\n",
    "    print (num,\"is niether divisble by 2 nor 5 \")"
   ]
  },
  {
   "cell_type": "code",
   "execution_count": null,
   "metadata": {},
   "outputs": [],
   "source": [
    "#Iterative Statements \n",
    "\n",
    "#for \n",
    "\n",
    "#while \n",
    "\n"
   ]
  },
  {
   "cell_type": "code",
   "execution_count": null,
   "metadata": {},
   "outputs": [],
   "source": []
  },
  {
   "cell_type": "code",
   "execution_count": null,
   "metadata": {},
   "outputs": [],
   "source": []
  },
  {
   "cell_type": "code",
   "execution_count": null,
   "metadata": {},
   "outputs": [],
   "source": []
  },
  {
   "cell_type": "code",
   "execution_count": 54,
   "metadata": {},
   "outputs": [
    {
     "name": "stdout",
     "output_type": "stream",
     "text": [
      "Enter your input ( it can either be quit or a number ) :  34\n",
      "34 is divisible by 2 only \n",
      "Enter your input ( it can either be quit or a number ) :  20\n",
      "20 is divisible by both 2 and 5 \n",
      "Enter your input ( it can either be quit or a number ) :  67\n",
      "67 is niether divisble by 2 nor 5 \n",
      "Enter your input ( it can either be quit or a number ) :  quit\n"
     ]
    }
   ],
   "source": [
    "\n",
    "inp=input(\"Enter your input ( it can either be quit or a number ) :  \")\n",
    "\n",
    "while inp != \"quit\":\n",
    "    \n",
    "    num=int(inp)\n",
    "\n",
    "    if num%2==0 and num%5==0:\n",
    "        print (num,\"is divisible by both 2 and 5 \")\n",
    "    elif num%2==0  : \n",
    "        print (num,\"is divisible by 2 only \")\n",
    "    elif  num%5==0 :\n",
    "        print (num,\"is divisible by 5 only\")\n",
    "    else:\n",
    "        print (num,\"is niether divisble by 2 nor 5 \")\n",
    "    \n",
    "    \n",
    "    inp=input(\"Enter your input ( it can either be quit or a number ) :  \")\n",
    "\n",
    "\n",
    "    "
   ]
  },
  {
   "cell_type": "code",
   "execution_count": null,
   "metadata": {},
   "outputs": [],
   "source": [
    "10 100 10\n",
    "10\n",
    "20\n",
    "30\n"
   ]
  },
  {
   "cell_type": "code",
   "execution_count": 55,
   "metadata": {},
   "outputs": [
    {
     "name": "stdout",
     "output_type": "stream",
     "text": [
      "10\n",
      "20\n",
      "30\n",
      "40\n",
      "50\n",
      "60\n",
      "70\n",
      "80\n",
      "90\n",
      "100\n"
     ]
    }
   ],
   "source": [
    "i=10\n",
    "\n",
    "while i<=100:\n",
    "    print (i)\n",
    "    i+=10"
   ]
  },
  {
   "cell_type": "code",
   "execution_count": 56,
   "metadata": {},
   "outputs": [
    {
     "data": {
      "text/plain": [
       "110"
      ]
     },
     "execution_count": 56,
     "metadata": {},
     "output_type": "execute_result"
    }
   ],
   "source": [
    "i"
   ]
  },
  {
   "cell_type": "code",
   "execution_count": 58,
   "metadata": {},
   "outputs": [],
   "source": [
    "#list : is a type of sequence , hetrogenus collection of values \n",
    "\n",
    "numbers=[1,2,3,4,5]\n",
    "\n",
    "names=['Yash','Sam','Prateek','Vikas','Anil']\n",
    "\n",
    "details=['Yash', 'India', 32, 6.1 ]"
   ]
  },
  {
   "cell_type": "code",
   "execution_count": 59,
   "metadata": {},
   "outputs": [
    {
     "data": {
      "text/plain": [
       "list"
      ]
     },
     "execution_count": 59,
     "metadata": {},
     "output_type": "execute_result"
    }
   ],
   "source": [
    "type(names)"
   ]
  },
  {
   "cell_type": "code",
   "execution_count": 60,
   "metadata": {},
   "outputs": [
    {
     "data": {
      "text/plain": [
       "list"
      ]
     },
     "execution_count": 60,
     "metadata": {},
     "output_type": "execute_result"
    }
   ],
   "source": [
    "type(numbers)"
   ]
  },
  {
   "cell_type": "code",
   "execution_count": 61,
   "metadata": {},
   "outputs": [
    {
     "data": {
      "text/plain": [
       "list"
      ]
     },
     "execution_count": 61,
     "metadata": {},
     "output_type": "execute_result"
    }
   ],
   "source": [
    "type(details)"
   ]
  },
  {
   "cell_type": "code",
   "execution_count": 63,
   "metadata": {},
   "outputs": [
    {
     "data": {
      "text/plain": [
       "'Prateek'"
      ]
     },
     "execution_count": 63,
     "metadata": {},
     "output_type": "execute_result"
    }
   ],
   "source": [
    "#0 based indexing \n",
    "\n",
    "names[2]"
   ]
  },
  {
   "cell_type": "code",
   "execution_count": 69,
   "metadata": {},
   "outputs": [
    {
     "name": "stdout",
     "output_type": "stream",
     "text": [
      "Yash....Sam....Prateek....Vikas...."
     ]
    }
   ],
   "source": [
    "#for loop : is mostly when the number of iterations or runs are known in advance \n",
    "\n",
    "names=['Yash','Sam','Prateek','Vikas','Anil']\n",
    "\n",
    "\n",
    "for each_element in names:\n",
    "    if 'a' in each_element:\n",
    "        print (each_element,end=\"....\")"
   ]
  },
  {
   "cell_type": "code",
   "execution_count": 70,
   "metadata": {},
   "outputs": [
    {
     "name": "stdout",
     "output_type": "stream",
     "text": [
      "1 1\n",
      "2 4\n",
      "3 9\n",
      "4 16\n",
      "5 25\n"
     ]
    }
   ],
   "source": [
    "#for loop : is mostly when the number of iterations or runs are known in advance \n",
    "\n",
    "numbers=[1,2,3,4,5]\n",
    "\n",
    "\n",
    "for each_element in numbers:\n",
    "    print (each_element,each_element**2)"
   ]
  },
  {
   "cell_type": "code",
   "execution_count": 71,
   "metadata": {},
   "outputs": [
    {
     "data": {
      "text/plain": [
       "27"
      ]
     },
     "execution_count": 71,
     "metadata": {},
     "output_type": "execute_result"
    }
   ],
   "source": [
    "3**3"
   ]
  },
  {
   "cell_type": "code",
   "execution_count": 73,
   "metadata": {},
   "outputs": [
    {
     "name": "stdout",
     "output_type": "stream",
     "text": [
      "1 Odd 1\n",
      "2 Even 8\n",
      "3 Odd 9\n",
      "4 Even 64\n",
      "5 Odd 25\n"
     ]
    }
   ],
   "source": [
    "numbers=[1,2,3,4,5]\n",
    "\n",
    "\n",
    "for each_element in numbers:\n",
    "    if each_element%2==0:  #Even number \n",
    "        print (each_element,\"Even\",each_element**3) #Cube\n",
    "    else :\n",
    "        print (each_element,\"Odd\",each_element**2) #Square"
   ]
  },
  {
   "cell_type": "code",
   "execution_count": 74,
   "metadata": {},
   "outputs": [
    {
     "data": {
      "text/plain": [
       "['Yash', 'India', 32, 6.1]"
      ]
     },
     "execution_count": 74,
     "metadata": {},
     "output_type": "execute_result"
    }
   ],
   "source": [
    "details"
   ]
  },
  {
   "cell_type": "code",
   "execution_count": 76,
   "metadata": {},
   "outputs": [
    {
     "name": "stdout",
     "output_type": "stream",
     "text": [
      "Yash <class 'str'>\n",
      "India <class 'str'>\n",
      "32 <class 'int'>\n",
      "6.1 <class 'float'>\n"
     ]
    }
   ],
   "source": [
    "for element in details:\n",
    "    print (element,type(element))"
   ]
  },
  {
   "cell_type": "code",
   "execution_count": null,
   "metadata": {},
   "outputs": [],
   "source": [
    "#Print the sqaures of 10 numbers in a list \n",
    "\n",
    "#For \n",
    "\n",
    "#while\n",
    "\n",
    "\n",
    "# Take items from a user and store in a list \n",
    "\n",
    "\n",
    "bread\n",
    "butter\n",
    "milk\n",
    "eggs\n",
    "cheese\n",
    "\n",
    "quit\n",
    "\n",
    "\n"
   ]
  },
  {
   "cell_type": "code",
   "execution_count": 79,
   "metadata": {},
   "outputs": [
    {
     "name": "stdout",
     "output_type": "stream",
     "text": [
      "12\n",
      "13\n",
      "45\n"
     ]
    }
   ],
   "source": [
    "l=[12,13,45,67,43,23,56,23,13,56,35,29,30]\n",
    "for each in l:\n",
    "    if each>60:\n",
    "        break\n",
    "        \n",
    "    print (each)"
   ]
  },
  {
   "cell_type": "code",
   "execution_count": 80,
   "metadata": {},
   "outputs": [
    {
     "name": "stdout",
     "output_type": "stream",
     "text": [
      "Enter your input ( it can either be quit or a number ) :  89\n",
      "89 is niether divisble by 2 nor 5 \n",
      "Enter your input ( it can either be quit or a number ) :  34\n",
      "34 is divisible by 2 only \n",
      "Enter your input ( it can either be quit or a number ) :  45\n",
      "45 is divisible by 5 only\n",
      "Enter your input ( it can either be quit or a number ) :  quit\n"
     ]
    }
   ],
   "source": [
    "\n",
    "inp=input(\"Enter your input ( it can either be quit or a number ) :  \")\n",
    "\n",
    "while inp != \"quit\":\n",
    "    \n",
    "    num=int(inp)\n",
    "\n",
    "    if num%2==0 and num%5==0:\n",
    "        print (num,\"is divisible by both 2 and 5 \")\n",
    "    elif num%2==0  : \n",
    "        print (num,\"is divisible by 2 only \")\n",
    "    elif  num%5==0 :\n",
    "        print (num,\"is divisible by 5 only\")\n",
    "    else:\n",
    "        print (num,\"is niether divisble by 2 nor 5 \")\n",
    "    \n",
    "    \n",
    "    inp=input(\"Enter your input ( it can either be quit or a number ) :  \")\n",
    "\n"
   ]
  },
  {
   "cell_type": "code",
   "execution_count": 87,
   "metadata": {},
   "outputs": [
    {
     "name": "stdout",
     "output_type": "stream",
     "text": [
      "User entered quit so came out ...\n"
     ]
    }
   ],
   "source": [
    "\n",
    "\n",
    "while False:\n",
    "    \n",
    "    inp=input(\"Enter your input ( it can either be quit or a number ) :  \")\n",
    "    \n",
    "    if inp==\"quit\":\n",
    "        break\n",
    "        \n",
    "    num=int(inp)\n",
    "\n",
    "    if num%2==0 and num%5==0:\n",
    "        print (num,\"is divisible by both 2 and 5 \")\n",
    "    elif num%2==0  : \n",
    "        print (num,\"is divisible by 2 only \")\n",
    "    elif  num%5==0 :\n",
    "        print (num,\"is divisible by 5 only\")\n",
    "    else:\n",
    "        print (num,\"is niether divisble by 2 nor 5 \")\n",
    "        \n",
    "print (\"User entered quit so came out ...\")\n",
    "    \n",
    "\n"
   ]
  },
  {
   "cell_type": "code",
   "execution_count": 98,
   "metadata": {},
   "outputs": [
    {
     "name": "stdout",
     "output_type": "stream",
     "text": [
      "12\n",
      "13\n",
      "45\n",
      "67\n",
      "43\n",
      "83\n",
      "96\n",
      "23\n",
      "13\n",
      "56\n",
      "35\n",
      "29\n",
      "30\n"
     ]
    }
   ],
   "source": [
    "l=[12,13,45,67,43,83,96,23,13,56,35,29,30]\n",
    "for each in l:\n",
    "    if each>60:\n",
    "        pass\n",
    "        \n",
    "    print (each)"
   ]
  },
  {
   "cell_type": "code",
   "execution_count": null,
   "metadata": {},
   "outputs": [],
   "source": [
    "pass \n",
    "return : functions "
   ]
  },
  {
   "cell_type": "code",
   "execution_count": 90,
   "metadata": {},
   "outputs": [
    {
     "data": {
      "text/plain": [
       "[1, 2, 3, 4, 5]"
      ]
     },
     "execution_count": 90,
     "metadata": {},
     "output_type": "execute_result"
    }
   ],
   "source": [
    "numbers"
   ]
  },
  {
   "cell_type": "code",
   "execution_count": 92,
   "metadata": {},
   "outputs": [],
   "source": [
    "for each in numbers:\n",
    "    pass\n",
    "\n"
   ]
  },
  {
   "cell_type": "code",
   "execution_count": null,
   "metadata": {},
   "outputs": [],
   "source": [
    "#First modules \n",
    "\n",
    "#datatype\n",
    "\n",
    "#variables\n",
    "\n",
    "# operations\n",
    "\n",
    "#comments \n",
    "\n",
    "#statements : conditional if  if-else if elif-else\n",
    "                iterative \n",
    "\n"
   ]
  },
  {
   "cell_type": "code",
   "execution_count": null,
   "metadata": {},
   "outputs": [],
   "source": [
    "Python's sequences \n",
    "\n",
    "#list\n",
    "\n",
    "\n",
    "#tuples\n",
    "#dict\n",
    "#string\n",
    "#set \n",
    "\n",
    "\n"
   ]
  },
  {
   "cell_type": "code",
   "execution_count": 99,
   "metadata": {},
   "outputs": [],
   "source": [
    "l1=[]"
   ]
  },
  {
   "cell_type": "code",
   "execution_count": 100,
   "metadata": {},
   "outputs": [
    {
     "data": {
      "text/plain": [
       "list"
      ]
     },
     "execution_count": 100,
     "metadata": {},
     "output_type": "execute_result"
    }
   ],
   "source": [
    "type(l1)"
   ]
  },
  {
   "cell_type": "code",
   "execution_count": 103,
   "metadata": {},
   "outputs": [],
   "source": [
    "l1.append(78)\n"
   ]
  },
  {
   "cell_type": "code",
   "execution_count": 104,
   "metadata": {},
   "outputs": [
    {
     "data": {
      "text/plain": [
       "[78]"
      ]
     },
     "execution_count": 104,
     "metadata": {},
     "output_type": "execute_result"
    }
   ],
   "source": [
    "l1"
   ]
  },
  {
   "cell_type": "code",
   "execution_count": 105,
   "metadata": {},
   "outputs": [],
   "source": [
    "l1.append(85)\n"
   ]
  },
  {
   "cell_type": "code",
   "execution_count": 106,
   "metadata": {},
   "outputs": [
    {
     "data": {
      "text/plain": [
       "[78, 85]"
      ]
     },
     "execution_count": 106,
     "metadata": {},
     "output_type": "execute_result"
    }
   ],
   "source": [
    "l1"
   ]
  },
  {
   "cell_type": "code",
   "execution_count": 108,
   "metadata": {},
   "outputs": [
    {
     "name": "stdout",
     "output_type": "stream",
     "text": [
      "Enter a num: 45\n",
      "Enter a num: 32\n",
      "Enter a num: 67\n",
      "Enter a num: 90\n",
      "Enter a num: 120\n"
     ]
    }
   ],
   "source": [
    "numbers_list=[]\n",
    "for each in [1,2,3,4,5]:\n",
    "    inp=int(input(\"Enter a num: \"))\n",
    "    numbers_list.append(inp)"
   ]
  },
  {
   "cell_type": "code",
   "execution_count": 109,
   "metadata": {},
   "outputs": [
    {
     "data": {
      "text/plain": [
       "[45, 32, 67, 90, 120]"
      ]
     },
     "execution_count": 109,
     "metadata": {},
     "output_type": "execute_result"
    }
   ],
   "source": [
    "numbers_list"
   ]
  },
  {
   "cell_type": "code",
   "execution_count": 112,
   "metadata": {},
   "outputs": [
    {
     "name": "stdout",
     "output_type": "stream",
     "text": [
      "Enter a num: 11\n",
      "Enter a num: 11\n",
      "Enter a num: 11\n",
      "Enter a num: quit\n"
     ]
    }
   ],
   "source": [
    "numbers_list=[]\n",
    "\n",
    "while True:\n",
    "    inp=input(\"Enter a num: \")\n",
    "    if inp==\"quit\":\n",
    "        break\n",
    "    num=int(inp)\n",
    "    numbers_list.append(num)"
   ]
  },
  {
   "cell_type": "code",
   "execution_count": 115,
   "metadata": {},
   "outputs": [],
   "source": [
    "numbers_list=[45, 32, 67, 90, 120]"
   ]
  },
  {
   "cell_type": "code",
   "execution_count": 117,
   "metadata": {},
   "outputs": [],
   "source": [
    "numbers_list.append(89)"
   ]
  },
  {
   "cell_type": "code",
   "execution_count": 118,
   "metadata": {},
   "outputs": [
    {
     "data": {
      "text/plain": [
       "[45, 32, 67, 90, 120, 89]"
      ]
     },
     "execution_count": 118,
     "metadata": {},
     "output_type": "execute_result"
    }
   ],
   "source": [
    "numbers_list\n"
   ]
  },
  {
   "cell_type": "code",
   "execution_count": 119,
   "metadata": {},
   "outputs": [],
   "source": [
    "numbers_list.insert(1,213)"
   ]
  },
  {
   "cell_type": "code",
   "execution_count": 120,
   "metadata": {},
   "outputs": [
    {
     "data": {
      "text/plain": [
       "[45, 213, 32, 67, 90, 120, 89]"
      ]
     },
     "execution_count": 120,
     "metadata": {},
     "output_type": "execute_result"
    }
   ],
   "source": [
    "numbers_list"
   ]
  },
  {
   "cell_type": "code",
   "execution_count": 121,
   "metadata": {},
   "outputs": [
    {
     "data": {
      "text/plain": [
       "7"
      ]
     },
     "execution_count": 121,
     "metadata": {},
     "output_type": "execute_result"
    }
   ],
   "source": [
    "len(numbers_list)"
   ]
  },
  {
   "cell_type": "code",
   "execution_count": 122,
   "metadata": {},
   "outputs": [],
   "source": [
    "numbers_list.insert(1,213)"
   ]
  },
  {
   "cell_type": "code",
   "execution_count": 123,
   "metadata": {},
   "outputs": [
    {
     "data": {
      "text/plain": [
       "[45, 213, 213, 32, 67, 90, 120, 89]"
      ]
     },
     "execution_count": 123,
     "metadata": {},
     "output_type": "execute_result"
    }
   ],
   "source": [
    "numbers_list\n"
   ]
  },
  {
   "cell_type": "code",
   "execution_count": null,
   "metadata": {},
   "outputs": [],
   "source": [
    "#adding an element \n",
    "\n",
    "    #index  # insert function \n",
    "    \n",
    "    #towards the end as well  #append function \n",
    "     \n",
    "    \n",
    "    \n",
    "#deleting an element \n",
    "    #index wise : pop function \n",
    " \n",
    "        #index\n",
    "    \n",
    "        #remove the value at last index \n",
    "        \n",
    "    #vaalue : remove function \n",
    "    "
   ]
  },
  {
   "cell_type": "code",
   "execution_count": 125,
   "metadata": {},
   "outputs": [
    {
     "data": {
      "text/plain": [
       "89"
      ]
     },
     "execution_count": 125,
     "metadata": {},
     "output_type": "execute_result"
    }
   ],
   "source": [
    "numbers_list.pop()"
   ]
  },
  {
   "cell_type": "code",
   "execution_count": 127,
   "metadata": {},
   "outputs": [
    {
     "data": {
      "text/plain": [
       "[45, 213, 213, 32, 67, 90, 120]"
      ]
     },
     "execution_count": 127,
     "metadata": {},
     "output_type": "execute_result"
    }
   ],
   "source": [
    "numbers_list"
   ]
  },
  {
   "cell_type": "code",
   "execution_count": 128,
   "metadata": {},
   "outputs": [
    {
     "data": {
      "text/plain": [
       "120"
      ]
     },
     "execution_count": 128,
     "metadata": {},
     "output_type": "execute_result"
    }
   ],
   "source": [
    "numbers_list.pop()"
   ]
  },
  {
   "cell_type": "code",
   "execution_count": 130,
   "metadata": {},
   "outputs": [
    {
     "data": {
      "text/plain": [
       "90"
      ]
     },
     "execution_count": 130,
     "metadata": {},
     "output_type": "execute_result"
    }
   ],
   "source": [
    "numbers_list.pop()"
   ]
  },
  {
   "cell_type": "code",
   "execution_count": 131,
   "metadata": {},
   "outputs": [
    {
     "data": {
      "text/plain": [
       "[45, 213, 213, 32, 67]"
      ]
     },
     "execution_count": 131,
     "metadata": {},
     "output_type": "execute_result"
    }
   ],
   "source": [
    "numbers_list"
   ]
  },
  {
   "cell_type": "code",
   "execution_count": 132,
   "metadata": {},
   "outputs": [
    {
     "data": {
      "text/plain": [
       "45"
      ]
     },
     "execution_count": 132,
     "metadata": {},
     "output_type": "execute_result"
    }
   ],
   "source": [
    "numbers_list.pop(0)"
   ]
  },
  {
   "cell_type": "code",
   "execution_count": 134,
   "metadata": {},
   "outputs": [],
   "source": [
    "numbers_list=[45, 213, 213, 32, 67, 90, 120]"
   ]
  },
  {
   "cell_type": "code",
   "execution_count": 138,
   "metadata": {},
   "outputs": [],
   "source": [
    "numbers_list.sort(reverse=True)"
   ]
  },
  {
   "cell_type": "code",
   "execution_count": 139,
   "metadata": {},
   "outputs": [
    {
     "data": {
      "text/plain": [
       "[213, 213, 120, 90, 67, 45, 32]"
      ]
     },
     "execution_count": 139,
     "metadata": {},
     "output_type": "execute_result"
    }
   ],
   "source": []
  },
  {
   "cell_type": "code",
   "execution_count": 140,
   "metadata": {},
   "outputs": [],
   "source": [
    "numbers_list=[45, 213, 213, 32, 67, 90, 120]\n"
   ]
  },
  {
   "cell_type": "code",
   "execution_count": 142,
   "metadata": {},
   "outputs": [
    {
     "ename": "ValueError",
     "evalue": "list.remove(x): x not in list",
     "output_type": "error",
     "traceback": [
      "\u001b[0;31m---------------------------------------------------------------------------\u001b[0m",
      "\u001b[0;31mValueError\u001b[0m                                Traceback (most recent call last)",
      "\u001b[0;32m<ipython-input-142-f85e602c6504>\u001b[0m in \u001b[0;36m<module>\u001b[0;34m\u001b[0m\n\u001b[0;32m----> 1\u001b[0;31m \u001b[0mnumbers_list\u001b[0m\u001b[0;34m.\u001b[0m\u001b[0mremove\u001b[0m\u001b[0;34m(\u001b[0m\u001b[0;36m45\u001b[0m\u001b[0;34m)\u001b[0m \u001b[0;31m#delete  element wise\u001b[0m\u001b[0;34m\u001b[0m\u001b[0;34m\u001b[0m\u001b[0m\n\u001b[0m",
      "\u001b[0;31mValueError\u001b[0m: list.remove(x): x not in list"
     ]
    }
   ],
   "source": [
    "numbers_list.remove(45) #delete  element wise "
   ]
  },
  {
   "cell_type": "code",
   "execution_count": 144,
   "metadata": {},
   "outputs": [],
   "source": [
    "numbers_list.remove(213)"
   ]
  },
  {
   "cell_type": "code",
   "execution_count": 145,
   "metadata": {},
   "outputs": [
    {
     "data": {
      "text/plain": [
       "[213, 32, 67, 90, 120]"
      ]
     },
     "execution_count": 145,
     "metadata": {},
     "output_type": "execute_result"
    }
   ],
   "source": [
    "numbers_list"
   ]
  },
  {
   "cell_type": "code",
   "execution_count": 146,
   "metadata": {},
   "outputs": [
    {
     "ename": "IndexError",
     "evalue": "pop index out of range",
     "output_type": "error",
     "traceback": [
      "\u001b[0;31m---------------------------------------------------------------------------\u001b[0m",
      "\u001b[0;31mIndexError\u001b[0m                                Traceback (most recent call last)",
      "\u001b[0;32m<ipython-input-146-baa2a1f7ec1c>\u001b[0m in \u001b[0;36m<module>\u001b[0;34m\u001b[0m\n\u001b[0;32m----> 1\u001b[0;31m \u001b[0mnumbers_list\u001b[0m\u001b[0;34m.\u001b[0m\u001b[0mpop\u001b[0m\u001b[0;34m(\u001b[0m\u001b[0;36m100\u001b[0m\u001b[0;34m)\u001b[0m\u001b[0;34m\u001b[0m\u001b[0;34m\u001b[0m\u001b[0m\n\u001b[0m",
      "\u001b[0;31mIndexError\u001b[0m: pop index out of range"
     ]
    }
   ],
   "source": [
    "numbers_list.pop(100)"
   ]
  },
  {
   "cell_type": "code",
   "execution_count": 147,
   "metadata": {},
   "outputs": [],
   "source": [
    "numbers_list.clear()"
   ]
  },
  {
   "cell_type": "code",
   "execution_count": 148,
   "metadata": {},
   "outputs": [
    {
     "data": {
      "text/plain": [
       "[]"
      ]
     },
     "execution_count": 148,
     "metadata": {},
     "output_type": "execute_result"
    }
   ],
   "source": [
    "numbers_list"
   ]
  },
  {
   "cell_type": "code",
   "execution_count": 150,
   "metadata": {},
   "outputs": [],
   "source": [
    "numbers_list=[213, 32, 67, 90, 120,213,89,34,32,67,213]\n"
   ]
  },
  {
   "cell_type": "code",
   "execution_count": 151,
   "metadata": {},
   "outputs": [
    {
     "data": {
      "text/plain": [
       "{32, 34, 67, 89, 90, 120, 213}"
      ]
     },
     "execution_count": 151,
     "metadata": {},
     "output_type": "execute_result"
    }
   ],
   "source": [
    "set(numbers_list\n",
    "   \n",
    "   )"
   ]
  },
  {
   "cell_type": "code",
   "execution_count": 153,
   "metadata": {},
   "outputs": [
    {
     "data": {
      "text/plain": [
       "[213, 32, 67, 90, 120, 213, 89, 34, 32, 67, 213, 1, 2, 3, 4, 5]"
      ]
     },
     "execution_count": 153,
     "metadata": {},
     "output_type": "execute_result"
    }
   ],
   "source": [
    "numbers_list+[1,2,3,4,5]"
   ]
  },
  {
   "cell_type": "code",
   "execution_count": 154,
   "metadata": {},
   "outputs": [
    {
     "data": {
      "text/plain": [
       "[78, 85]"
      ]
     },
     "execution_count": 154,
     "metadata": {},
     "output_type": "execute_result"
    }
   ],
   "source": [
    "l1"
   ]
  },
  {
   "cell_type": "code",
   "execution_count": 155,
   "metadata": {},
   "outputs": [
    {
     "data": {
      "text/plain": [
       "[213, 32, 67, 90, 120, 213, 89, 34, 32, 67, 213]"
      ]
     },
     "execution_count": 155,
     "metadata": {},
     "output_type": "execute_result"
    }
   ],
   "source": [
    "numbers_list"
   ]
  },
  {
   "cell_type": "code",
   "execution_count": 156,
   "metadata": {},
   "outputs": [
    {
     "data": {
      "text/plain": [
       "[213, 32, 67, 90, 120, 213, 89, 34, 32, 67, 213, 78, 85]"
      ]
     },
     "execution_count": 156,
     "metadata": {},
     "output_type": "execute_result"
    }
   ],
   "source": [
    "numbers_list+l1"
   ]
  },
  {
   "cell_type": "code",
   "execution_count": 157,
   "metadata": {},
   "outputs": [],
   "source": [
    "numbers_list.extend(l1)"
   ]
  },
  {
   "cell_type": "code",
   "execution_count": 158,
   "metadata": {},
   "outputs": [
    {
     "data": {
      "text/plain": [
       "[213, 32, 67, 90, 120, 213, 89, 34, 32, 67, 213, 78, 85]"
      ]
     },
     "execution_count": 158,
     "metadata": {},
     "output_type": "execute_result"
    }
   ],
   "source": [
    "numbers_list"
   ]
  },
  {
   "cell_type": "code",
   "execution_count": 160,
   "metadata": {},
   "outputs": [
    {
     "data": {
      "text/plain": [
       "[32, 67, 90]"
      ]
     },
     "execution_count": 160,
     "metadata": {},
     "output_type": "execute_result"
    }
   ],
   "source": [
    "numbers_list[1:4]   #subset \n",
    "\n"
   ]
  },
  {
   "cell_type": "code",
   "execution_count": 161,
   "metadata": {},
   "outputs": [
    {
     "data": {
      "text/plain": [
       "[1, 2, 3, 4, 'Alex', 'Tom', 'James', 'Nic']"
      ]
     },
     "execution_count": 161,
     "metadata": {},
     "output_type": "execute_result"
    }
   ],
   "source": [
    "num_lis=[1,2,3,4]\n",
    "nam_lit=['Alex','Tom','James','Nic']\n",
    "num_lis+nam_lit"
   ]
  },
  {
   "cell_type": "code",
   "execution_count": 162,
   "metadata": {},
   "outputs": [],
   "source": [
    "num_lis.extend(nam_lit)"
   ]
  },
  {
   "cell_type": "code",
   "execution_count": 163,
   "metadata": {},
   "outputs": [
    {
     "data": {
      "text/plain": [
       "[1, 2, 3, 4, 'Alex', 'Tom', 'James', 'Nic']"
      ]
     },
     "execution_count": 163,
     "metadata": {},
     "output_type": "execute_result"
    }
   ],
   "source": [
    "num_lis"
   ]
  },
  {
   "cell_type": "code",
   "execution_count": 164,
   "metadata": {},
   "outputs": [
    {
     "data": {
      "text/plain": [
       "['Alex', 'Tom', 'James', 'Nic']"
      ]
     },
     "execution_count": 164,
     "metadata": {},
     "output_type": "execute_result"
    }
   ],
   "source": [
    "nam_lit"
   ]
  },
  {
   "cell_type": "code",
   "execution_count": null,
   "metadata": {},
   "outputs": [],
   "source": []
  }
 ],
 "metadata": {
  "kernelspec": {
   "display_name": "Python 3",
   "language": "python",
   "name": "python3"
  },
  "language_info": {
   "codemirror_mode": {
    "name": "ipython",
    "version": 3
   },
   "file_extension": ".py",
   "mimetype": "text/x-python",
   "name": "python",
   "nbconvert_exporter": "python",
   "pygments_lexer": "ipython3",
   "version": "3.7.3"
  }
 },
 "nbformat": 4,
 "nbformat_minor": 2
}
